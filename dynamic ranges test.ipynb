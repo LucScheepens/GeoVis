{
 "cells": [
  {
   "cell_type": "code",
   "execution_count": 13,
   "metadata": {},
   "outputs": [],
   "source": [
    "from test_data_generator import generate_fake_metro, plot_metro_layout\n",
    "import random\n",
    "import pandas as pd\n",
    "\n",
    "flow_paths, stations, df = generate_fake_metro(\n",
    "    station_count=10,\n",
    "    flow_path_count=10,\n",
    "    max_flow_path_length=5,\n",
    "    min_flow_path_frequency=1,\n",
    "    max_flow_path_frequency=10\n",
    ")\n",
    "\n",
    "test_stations = stations\n",
    "test_paths = flow_paths"
   ]
  },
  {
   "cell_type": "code",
   "execution_count": 8,
   "metadata": {},
   "outputs": [],
   "source": [
    "def generate_slots(test_paths):\n",
    "    \"\"\"\n",
    "    Generates slots given the paths\n",
    "    \"\"\"\n",
    "    max_length = int(len(test_paths) / 2) + 1\n",
    "    list_of_list = [[(i,i), (i, -i), (-i, i), (-i, -i)] for i in range (1, max_length)]\n",
    "\n",
    "    flattened_list = [(0, 0)]\n",
    "\n",
    "    for sublist in list_of_list:\n",
    "        for tuple_item in sublist:\n",
    "            flattened_list.append(tuple_item)\n",
    "    slot_names = ['s{}'.format(i) for i in range(0, len(flattened_list))]\n",
    "    return list(zip(slot_names, flattened_list))\n"
   ]
  },
  {
   "cell_type": "code",
   "execution_count": 105,
   "metadata": {},
   "outputs": [
    {
     "data": {
      "text/plain": [
       "38"
      ]
     },
     "execution_count": 105,
     "metadata": {},
     "output_type": "execute_result"
    }
   ],
   "source": [
    "from algo import combination_to_coordinates, count_intersections\n",
    "from utils import Point, LayoutAlgorithm, FlowPathsT, LayoutOutput, SLOTS\n",
    "\n",
    "def calculate_intersections(flow_paths, stations):\n",
    "    \"\"\"\n",
    "    Takes a station, the flowpaths with frequencies and computes the optimal arrangement\n",
    "    \"\"\"\n",
    "\n",
    "    slots = generate_slots(test_paths)\n",
    "\n",
    "    data_paths = {\n",
    "    'Paths': [n[1] for n in flow_paths],\n",
    "    'Frequency': [n[0] for n in flow_paths],\n",
    "    'Slot offsets': random.sample(slots, 10)\n",
    "    }\n",
    "\n",
    "    df_paths = pd.DataFrame(data_paths)\n",
    "\n",
    "    # Transform offsets to a dictionary\n",
    "    OFFSETS = df_paths['Slot offsets']\n",
    "    offset_dict = dict()\n",
    "    for offset in OFFSETS:\n",
    "        offset_dict.update({offset[0]: offset[1]})\n",
    "\n",
    "    # Get slot names\n",
    "    slot_names = list(offset_dict.keys())\n",
    "\n",
    "    SLOT_OFFSETS = offset_dict\n",
    "    SLOTS = slot_names\n",
    "\n",
    "    # Get slot names\n",
    "    slot_coordinates = {}\n",
    "\n",
    "    #Transforms the slot to a location\n",
    "    for station_name, point in stations.items():\n",
    "        for slot in SLOTS:\n",
    "            offset_x, offset_y = SLOT_OFFSETS[slot]\n",
    "            slot_coordinates[(station_name, slot)] = Point(point.x + offset_x, point.y + offset_y)\n",
    "\n",
    "    combination_merged = []\n",
    "\n",
    "    # For each path in the dataframe, it takes the slot offset and takes the name.\n",
    "    # Then for each element of the path it creates a tuple with both.\n",
    "    for path in df_paths.iterrows():\n",
    "        path_list = []\n",
    "        slot = path[1]['Slot offsets'][0]\n",
    "        for station in path[1]['Paths']:\n",
    "            path_list.append((station, slot))\n",
    "        combination_merged.append(path_list)\n",
    "\n",
    "    intersections = count_intersections(combination_to_coordinates(combination_merged, slot_coordinates))\n",
    "    layout = list(map(lambda x: (1, x), combination_to_coordinates(combination_merged, slot_coordinates)))\n",
    "    return intersections, df_paths, layout\n",
    "\n",
    "intersections_test , paths_dummy , layout= calculate_intersections(test_paths, test_stations)\n",
    "intersections_test"
   ]
  },
  {
   "cell_type": "code",
   "execution_count": 71,
   "metadata": {},
   "outputs": [
    {
     "data": {
      "text/plain": [
       "(47,\n",
       "                    Paths  Frequency     Slot offsets\n",
       " 0  [Root, G, I, B, J, E]          9    (s2, (1, -1))\n",
       " 1        [Root, G, I, B]          8   (s15, (-4, 4))\n",
       " 2        [Root, G, I, B]         10     (s5, (2, 2))\n",
       " 3              [Root, F]          5    (s6, (2, -2))\n",
       " 4  [Root, F, E, J, B, I]          5   (s19, (-5, 5))\n",
       " 5              [Root, G]          2   (s4, (-1, -1))\n",
       " 6     [Root, F, E, J, B]          8  (s20, (-5, -5))\n",
       " 7     [Root, G, I, B, J]          5    (s13, (4, 4))\n",
       " 8           [Root, G, I]          5  (s16, (-4, -4))\n",
       " 9     [Root, G, I, B, J]          5     (s1, (1, 1)))"
      ]
     },
     "execution_count": 71,
     "metadata": {},
     "output_type": "execute_result"
    }
   ],
   "source": [
    "def dynamic_ranges(self, flow_paths, stations):\n",
    "    \"\"\"\n",
    "    Takes the coordinates of a station, the paths between computes the optimal arrangement\n",
    "    \"\"\"\n",
    "    #TODO: keep track of used combinations\n",
    "    #TODO: make the iteration dependend on the search space\n",
    "\n",
    "    intersections, df_paths = calculate_intersections(flow_paths, stations)\n",
    "    return intersections, df_paths\n",
    "\n",
    "dynamic_ranges([], test_paths, test_stations)"
   ]
  },
  {
   "cell_type": "code",
   "execution_count": 11,
   "metadata": {},
   "outputs": [
    {
     "data": {
      "text/plain": [
       "('RootJs1RootJs7RootJHIEs8RootJCGDAs4RootJCGDs2RootJCGs5RootJHIs9RootJCGDs10RootJCGDs6RootJHIs3',\n",
       " 10)"
      ]
     },
     "execution_count": 11,
     "metadata": {},
     "output_type": "execute_result"
    }
   ],
   "source": [
    "def create_combination(paths, slots):\n",
    "    \"\"\"\n",
    "    Creates a random combination of order and slots with the paths\n",
    "    \"\"\"\n",
    "\n",
    "    combination = []\n",
    "\n",
    "    # Pick a random path and a random slot and add it to combinations\n",
    "    for c in range(len(paths)):\n",
    "        path = random.choice(paths)\n",
    "        paths.remove(path)\n",
    "        slot = random.choice(slots)\n",
    "        slots.remove(slot)\n",
    "        combination.append([(station, slot) for station in path[1]])\n",
    "\n",
    "    return combination\n",
    "\n",
    "\n",
    "def dynamic_ranges(self, flow_paths, stations):\n",
    "    \"\"\"\n",
    "    Takes the coordinates of a station, the paths between computes the optimal arrangement\n",
    "    \"\"\"\n",
    "    #TODO: keep track of used combinations\n",
    "    #TODO: make the iteration dependend on the search space\n",
    "\n",
    "    slots = ['s1', 's2', 's3', 's4', 's5', 's6', 's7', 's8', 's9', 's10']\n",
    "    paths = flow_paths\n",
    "    # Initialize iteration counter\n",
    "    iteration = 0\n",
    "    \n",
    "    # Initialize dictionary with lowest scores\n",
    "    amount_of_lower_scores = 100\n",
    "    lowest_scores = {key: 1000 for key in range(amount_of_lower_scores)}\n",
    "\n",
    "    # Initialize score ranges\n",
    "    score_range = 0\n",
    "\n",
    "    # Initialize decreasing rates\n",
    "    rate_lowest_scores = 10\n",
    "    rate_score_range = 10\n",
    "\n",
    "    # Compute score range\n",
    "    search_space = len(slots) * len(paths) * len(paths)\n",
    "\n",
    "    # Find the lowest score while ranges don't match\n",
    "    while lowest_scores[max(lowest_scores, key = lowest_scores.get)] > score_range and len(lowest_scores) > 1:\n",
    "\n",
    "        combinations = create_combination(paths, slots)\n",
    "\n",
    "        #TODO: map back to locations using stations\n",
    "        # Calculate intersections\n",
    "        # intersection_value = calculate_intersections(flow_paths, stations)\n",
    "        intersection_value = 10\n",
    "        # Calculate overlap\n",
    "\n",
    "        if intersection_value < max(lowest_scores.values()):\n",
    "            key = \"\"\n",
    "            for combo in combinations:\n",
    "                combo = dict(combo)\n",
    "                key = \"\".join(combo.keys()) + list(combo.values())[0] + key\n",
    "            lowest_scores.update({key: intersection_value})\n",
    "\n",
    "        if iteration % rate_lowest_scores == 0:\n",
    "            lowest_scores.pop(max(lowest_scores, key = lowest_scores.get))\n",
    "\n",
    "        if iteration % rate_score_range == 0:\n",
    "            score_range += 1\n",
    "\n",
    "        iteration += 1\n",
    "\n",
    "\n",
    "\n",
    "    return min(lowest_scores, key = lowest_scores.get), lowest_scores[min(lowest_scores, key = lowest_scores.get)]\n",
    "\n",
    "dynamic_ranges([], test_paths, test_stations)"
   ]
  }
 ],
 "metadata": {
  "kernelspec": {
   "display_name": "Python 3",
   "language": "python",
   "name": "python3"
  },
  "language_info": {
   "codemirror_mode": {
    "name": "ipython",
    "version": 3
   },
   "file_extension": ".py",
   "mimetype": "text/x-python",
   "name": "python",
   "nbconvert_exporter": "python",
   "pygments_lexer": "ipython3",
   "version": "3.9.13"
  }
 },
 "nbformat": 4,
 "nbformat_minor": 2
}
