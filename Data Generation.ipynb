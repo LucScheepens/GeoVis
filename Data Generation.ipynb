{
 "cells": [
  {
   "cell_type": "code",
   "execution_count": 1,
   "metadata": {},
   "outputs": [],
   "source": [
    "import pandas as pd\n",
    "import numpy as np\n",
    "import random\n",
    "import math"
   ]
  },
  {
   "cell_type": "code",
   "execution_count": 2,
   "metadata": {},
   "outputs": [
    {
     "data": {
      "text/plain": [
       "['Root', 'A', 'B', 'C', 'D', 'E']"
      ]
     },
     "execution_count": 2,
     "metadata": {},
     "output_type": "execute_result"
    }
   ],
   "source": [
    "def gen_station_names(amount):\n",
    "    \"\"\"\n",
    "    Creates names for stations given an amount of stations.\n",
    "    \"\"\"\n",
    "    name_list = ['Root']\n",
    "    for name in range(amount):\n",
    "        name_list.append(chr(65 + name))\n",
    "    return name_list\n",
    "\n",
    "names = gen_station_names(5)\n",
    "names"
   ]
  },
  {
   "cell_type": "code",
   "execution_count": 3,
   "metadata": {},
   "outputs": [
    {
     "name": "stdout",
     "output_type": "stream",
     "text": [
      "6 6\n"
     ]
    },
    {
     "data": {
      "text/plain": [
       "[[0, 0], [0, 1], [0, 2], [1, 0], [2, 2], [1, 1]]"
      ]
     },
     "execution_count": 3,
     "metadata": {},
     "output_type": "execute_result"
    }
   ],
   "source": [
    "def gen_locations(name_list):\n",
    "    \"\"\"\n",
    "    Given a list of station names, generates random locations.\n",
    "    \"\"\"\n",
    "    location_list = []\n",
    "    max_xy = math.ceil(len(name_list) / 2)\n",
    "\n",
    "    while len(location_list) < len(name_list):\n",
    "\n",
    "        new_location = [np.random.randint(0, max_xy), np.random.randint(0, max_xy)]\n",
    "        if new_location not in location_list:\n",
    "            location_list.append(new_location)\n",
    "    return location_list\n",
    "\n",
    "locations = gen_locations(names)\n",
    "print(len(names), len(locations))\n",
    "locations"
   ]
  },
  {
   "cell_type": "code",
   "execution_count": 17,
   "metadata": {},
   "outputs": [],
   "source": [
    "location_list = locations\n",
    "station = 2\n",
    "[location for location in location_list if location_list[station][0] == location[0] or location_list[station][1] == location[1]]\n"
   ]
  },
  {
   "cell_type": "code",
   "execution_count": 4,
   "metadata": {},
   "outputs": [],
   "source": [
    "def gen_connections(name_list, location_list):\n",
    "    \"\"\"\n",
    "    Takes a list of names and corresponding locations and generates connections between them.\n",
    "    \"\"\"\n",
    "    for station in range(name_list):\n",
    "        possible_connections = [location for location in location_list if location_list[station][0] == location[0] or location_list[station][1] == location[1]]"
   ]
  },
  {
   "cell_type": "code",
   "execution_count": 5,
   "metadata": {},
   "outputs": [
    {
     "ename": "TypeError",
     "evalue": "gen_connections() missing 1 required positional argument: 'location_list'",
     "output_type": "error",
     "traceback": [
      "\u001b[1;31m---------------------------------------------------------------------------\u001b[0m",
      "\u001b[1;31mTypeError\u001b[0m                                 Traceback (most recent call last)",
      "Cell \u001b[1;32mIn [5], line 23\u001b[0m\n\u001b[0;32m     19\u001b[0m         connection_list\u001b[38;5;241m.\u001b[39mappend(temp_list)\n\u001b[0;32m     21\u001b[0m     \u001b[38;5;28;01mreturn\u001b[39;00m connection_list\n\u001b[1;32m---> 23\u001b[0m connection_list \u001b[38;5;241m=\u001b[39m \u001b[43mgen_connections\u001b[49m\u001b[43m(\u001b[49m\u001b[43mnames\u001b[49m\u001b[43m)\u001b[49m\n\u001b[0;32m     24\u001b[0m connection_list\n",
      "\u001b[1;31mTypeError\u001b[0m: gen_connections() missing 1 required positional argument: 'location_list'"
     ]
    }
   ],
   "source": [
    "def gen_connections(name_list, location_list):\n",
    "    \"\"\"\n",
    "    Given a list of names and locations, generates random connections between them.\n",
    "    \"\"\"\n",
    "    connection_list = []\n",
    "\n",
    "    for name in name_list:\n",
    "\n",
    "        temp_list = []\n",
    "        updated_name_list = name_list.copy()\n",
    "        updated_name_list.remove(name)\n",
    "        connections = np.random.randint(1,5)\n",
    "\n",
    "        for con in range(connections):\n",
    "            connection = random.choice(updated_name_list)\n",
    "            updated_name_list.remove(connection)\n",
    "            temp_list.append(connection)\n",
    "\n",
    "        connection_list.append(temp_list)\n",
    "\n",
    "    return connection_list\n",
    "\n",
    "connection_list = gen_connections(names)\n",
    "connection_list"
   ]
  }
 ],
 "metadata": {
  "kernelspec": {
   "display_name": "Python 3",
   "language": "python",
   "name": "python3"
  },
  "language_info": {
   "codemirror_mode": {
    "name": "ipython",
    "version": 3
   },
   "file_extension": ".py",
   "mimetype": "text/x-python",
   "name": "python",
   "nbconvert_exporter": "python",
   "pygments_lexer": "ipython3",
   "version": "3.9.13"
  }
 },
 "nbformat": 4,
 "nbformat_minor": 2
}
