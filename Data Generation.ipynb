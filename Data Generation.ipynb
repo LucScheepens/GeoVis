{
 "cells": [
  {
   "cell_type": "code",
   "execution_count": 61,
   "metadata": {},
   "outputs": [],
   "source": [
    "import pandas as pd\n",
    "import numpy as np\n",
    "import random\n",
    "import math\n",
    "import networkx as nx\n",
    "import matplotlib.pyplot as plt"
   ]
  },
  {
   "cell_type": "code",
   "execution_count": 62,
   "metadata": {},
   "outputs": [
    {
     "data": {
      "text/plain": [
       "['Root', 'A', 'B', 'C', 'D', 'E']"
      ]
     },
     "execution_count": 62,
     "metadata": {},
     "output_type": "execute_result"
    }
   ],
   "source": [
    "def gen_station_names(amount):\n",
    "    \"\"\"\n",
    "    Creates names for stations given an amount of stations.\n",
    "    \"\"\"\n",
    "    name_list = ['Root']\n",
    "    for name in range(amount):\n",
    "        name_list.append(chr(65 + name))\n",
    "    return name_list\n",
    "\n",
    "names = gen_station_names(5)\n",
    "names"
   ]
  },
  {
   "cell_type": "code",
   "execution_count": 63,
   "metadata": {},
   "outputs": [
    {
     "name": "stdout",
     "output_type": "stream",
     "text": [
      "6 6\n"
     ]
    },
    {
     "data": {
      "text/plain": [
       "[[0, 1], [0, 0], [1, 2], [2, 2], [1, 0], [2, 0]]"
      ]
     },
     "execution_count": 63,
     "metadata": {},
     "output_type": "execute_result"
    }
   ],
   "source": [
    "def gen_locations(name_list):\n",
    "    \"\"\"\n",
    "    Given a list of station names, generates random locations.\n",
    "    \"\"\"\n",
    "    location_list = []\n",
    "    max_xy = math.ceil(len(name_list) / 2)\n",
    "\n",
    "    while len(location_list) < len(name_list):\n",
    "\n",
    "        new_location = [np.random.randint(0, max_xy), np.random.randint(0, max_xy)]\n",
    "        if new_location not in location_list:\n",
    "            location_list.append(new_location)\n",
    "    return location_list\n",
    "\n",
    "locations = gen_locations(names)\n",
    "print(len(names), len(locations))\n",
    "locations"
   ]
  },
  {
   "cell_type": "code",
   "execution_count": 64,
   "metadata": {},
   "outputs": [],
   "source": [
    "def gen_connections(name_list, location_list):\n",
    "    \"\"\"\n",
    "    Takes a list of names and corresponding locations and generates connections between them.\n",
    "    \"\"\"\n",
    "    connection_list = []\n",
    "    final_list = []\n",
    "    new_connection_list = []\n",
    "    \n",
    "    for station in range(len(name_list)):\n",
    "        # Finds for a station which other stations can be directly connected to it\n",
    "        possible_connections = [location for location in location_list if location_list[station][0] == location[0]\n",
    "                                 or location_list[station][1] == location[1]]\n",
    "        \n",
    "        # Removes the station itself\n",
    "        possible_connections.remove(location_list[station])\n",
    "\n",
    "        # Remove too far stations\n",
    "        #for connection in possible_connections:\n",
    "        #    print()\n",
    "\n",
    "        # If no stations can be connected, create a station which is can subsequently be connected with another station\n",
    "        if len(possible_connections) == 0:\n",
    "\n",
    "            #Select a random station to indirectly connect to\n",
    "            connecting_station = random.choice(location_list)\n",
    "\n",
    "            # Append new station name\n",
    "            name_list.append(chr(64 + len(name_list)))\n",
    "\n",
    "            # Append new connection\n",
    "            new_connection_list.append([connecting_station])\n",
    "\n",
    "            # Create a random variable which is used to determine on which axis the station gets generated\n",
    "            decider_var = random.choice([0,1])\n",
    "\n",
    "            # Create random location for station which can connect to the current station and add it to location_list and connection_list\n",
    "            if decider_var == 0:\n",
    "                location_list.append([location_list[station][0], connecting_station[1]])\n",
    "                connection_list.append([[location_list[station][0], connecting_station[1]]])\n",
    "            else:\n",
    "                location_list.append([connecting_station[0] , location_list[station][0]])\n",
    "                connection_list.append([[connecting_station[0] , location_list[station][0]]])\n",
    "                #print('Succesfully added a station {} and connected it to {}'.format(name_list[-1], name_list[station]))\n",
    "                \n",
    "        else:\n",
    "            # TODO add already existing elements to the made choice\n",
    "            connection_list.append(random.sample(possible_connections, random.randint(1, len(possible_connections))))\n",
    "\n",
    "    # TODO fix all the lines going trough a station without connecting\n",
    "    # Renames the locations to station names\n",
    "    mapping_dict = dict(zip(map(tuple, location_list), name_list))\n",
    "\n",
    "    #print('name_list: {}, location_list: {}, connection_list: {}'.format(name_list, location_list, connection_list))\n",
    "\n",
    "    # Adds connections for newly generated stations to the list\n",
    "    connection_list = connection_list + new_connection_list\n",
    "\n",
    "    for connection in connection_list:\n",
    "        final_list.append([mapping_dict[tuple(item)] for item in connection])\n",
    "    \n",
    "    \n",
    "    \n",
    "    return final_list\n",
    "        \n"
   ]
  },
  {
   "cell_type": "code",
   "execution_count": 65,
   "metadata": {},
   "outputs": [
    {
     "data": {
      "text/html": [
       "<div>\n",
       "<style scoped>\n",
       "    .dataframe tbody tr th:only-of-type {\n",
       "        vertical-align: middle;\n",
       "    }\n",
       "\n",
       "    .dataframe tbody tr th {\n",
       "        vertical-align: top;\n",
       "    }\n",
       "\n",
       "    .dataframe thead th {\n",
       "        text-align: right;\n",
       "    }\n",
       "</style>\n",
       "<table border=\"1\" class=\"dataframe\">\n",
       "  <thead>\n",
       "    <tr style=\"text-align: right;\">\n",
       "      <th></th>\n",
       "      <th>Station_names</th>\n",
       "      <th>ins</th>\n",
       "      <th>outs</th>\n",
       "    </tr>\n",
       "  </thead>\n",
       "  <tbody>\n",
       "    <tr>\n",
       "      <th>0</th>\n",
       "      <td>Root</td>\n",
       "      <td>[F]</td>\n",
       "      <td>[F]</td>\n",
       "    </tr>\n",
       "    <tr>\n",
       "      <th>1</th>\n",
       "      <td>A</td>\n",
       "      <td>[H]</td>\n",
       "      <td>[H]</td>\n",
       "    </tr>\n",
       "    <tr>\n",
       "      <th>2</th>\n",
       "      <td>B</td>\n",
       "      <td>[E, F]</td>\n",
       "      <td>[E, F]</td>\n",
       "    </tr>\n",
       "    <tr>\n",
       "      <th>3</th>\n",
       "      <td>C</td>\n",
       "      <td>[H, I, G, J]</td>\n",
       "      <td>[J, G, I, H]</td>\n",
       "    </tr>\n",
       "    <tr>\n",
       "      <th>4</th>\n",
       "      <td>D</td>\n",
       "      <td>[I]</td>\n",
       "      <td>[I]</td>\n",
       "    </tr>\n",
       "    <tr>\n",
       "      <th>5</th>\n",
       "      <td>E</td>\n",
       "      <td>[F]</td>\n",
       "      <td>[F, B]</td>\n",
       "    </tr>\n",
       "    <tr>\n",
       "      <th>6</th>\n",
       "      <td>F</td>\n",
       "      <td>[Root]</td>\n",
       "      <td>[E, B, Root]</td>\n",
       "    </tr>\n",
       "    <tr>\n",
       "      <th>7</th>\n",
       "      <td>G</td>\n",
       "      <td>[C, J]</td>\n",
       "      <td>[J, C]</td>\n",
       "    </tr>\n",
       "    <tr>\n",
       "      <th>8</th>\n",
       "      <td>H</td>\n",
       "      <td>[A]</td>\n",
       "      <td>[C, A]</td>\n",
       "    </tr>\n",
       "    <tr>\n",
       "      <th>9</th>\n",
       "      <td>I</td>\n",
       "      <td>[D, J]</td>\n",
       "      <td>[J, C, D]</td>\n",
       "    </tr>\n",
       "    <tr>\n",
       "      <th>10</th>\n",
       "      <td>J</td>\n",
       "      <td>[C, I]</td>\n",
       "      <td>[C, I, G]</td>\n",
       "    </tr>\n",
       "  </tbody>\n",
       "</table>\n",
       "</div>"
      ],
      "text/plain": [
       "   Station_names           ins          outs\n",
       "0           Root           [F]           [F]\n",
       "1              A           [H]           [H]\n",
       "2              B        [E, F]        [E, F]\n",
       "3              C  [H, I, G, J]  [J, G, I, H]\n",
       "4              D           [I]           [I]\n",
       "5              E           [F]        [F, B]\n",
       "6              F        [Root]  [E, B, Root]\n",
       "7              G        [C, J]        [J, C]\n",
       "8              H           [A]        [C, A]\n",
       "9              I        [D, J]     [J, C, D]\n",
       "10             J        [C, I]     [C, I, G]"
      ]
     },
     "execution_count": 65,
     "metadata": {},
     "output_type": "execute_result"
    }
   ],
   "source": [
    "amount_stations = 10\n",
    "test_names = gen_station_names(amount_stations)\n",
    "test_locations = gen_locations(test_names)\n",
    "test_connections = gen_connections(test_names, test_locations)\n",
    "\n",
    "\n",
    "\n",
    "\n",
    "temp_con = test_connections.copy()\n",
    "for station in range(len(test_names)):\n",
    "    for connection in test_connections[station]:\n",
    "        index = test_names.index(connection)\n",
    "        temp_var = set(test_connections[index])\n",
    "        temp_var.add(test_names[station])\n",
    "        test_connections[index] = list(temp_var)\n",
    "\n",
    "data = {\n",
    "    'Station_names': test_names,\n",
    "    'ins': temp_con,\n",
    "    'outs': test_connections\n",
    "}\n",
    "\n",
    "df_stations = pd.DataFrame(data)\n",
    "df_stations"
   ]
  },
  {
   "cell_type": "code",
   "execution_count": 66,
   "metadata": {},
   "outputs": [],
   "source": [
    "def plot_graph(df_stations):\n",
    "    G = nx.Graph()\n",
    "\n",
    "    # Add nodes to the graph\n",
    "    for i, row in df_stations.iterrows():\n",
    "        G.add_node(row['Station_names'], pos=row['Station_locations'])\n",
    "\n",
    "    # Add edges to the graph\n",
    "    for i, row in df_stations.iterrows():\n",
    "        for dest in row['Connected_to']:\n",
    "            G.add_edge(row['Station_names'], dest)\n",
    "\n",
    "    # Get positions of nodes\n",
    "    pos = nx.get_node_attributes(G, 'pos')\n",
    "\n",
    "    # Plot the graph\n",
    "    plt.figure(figsize=(10, 6))\n",
    "    nx.draw(G, pos, with_labels=True, node_size=1000, node_color='lightblue', font_size=10, font_weight='bold')\n",
    "    plt.title('Subway')\n",
    "    return plt"
   ]
  },
  {
   "cell_type": "code",
   "execution_count": 67,
   "metadata": {},
   "outputs": [],
   "source": [
    "amount_stations = 10\n",
    "# test_names = gen_station_names(amount_stations)\n",
    "# test_locations = gen_locations(test_names)\n",
    "# test_connections = gen_connections(test_names, test_locations)\n",
    "\n",
    "data = {\n",
    "    'Station_names': test_names,\n",
    "    'Station_locations': test_locations,\n",
    "    'Connected_to': test_connections\n",
    "}\n",
    "\n",
    "df_stations = pd.DataFrame(data)\n"
   ]
  },
  {
   "cell_type": "code",
   "execution_count": 68,
   "metadata": {},
   "outputs": [
    {
     "data": {
      "image/png": "[encoded data removed]",
      "text/plain": [
       "<Figure size 1000x600 with 1 Axes>"
      ]
     },
     "metadata": {},
     "output_type": "display_data"
    }
   ],
   "source": [
    "plot = plot_graph(df_stations)\n",
    "plot.show()"
   ]
  }
 ],
 "metadata": {
  "kernelspec": {
   "display_name": "Python 3",
   "language": "python",
   "name": "python3"
  },
  "language_info": {
   "codemirror_mode": {
    "name": "ipython",
    "version": 3
   },
   "file_extension": ".py",
   "mimetype": "text/x-python",
   "name": "python",
   "nbconvert_exporter": "python",
   "pygments_lexer": "ipython3",
   "version": "3.9.13"
  }
 },
 "nbformat": 4,
 "nbformat_minor": 2
}
