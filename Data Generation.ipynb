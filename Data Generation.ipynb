{
 "cells": [
  {
   "cell_type": "code",
   "execution_count": 11,
   "metadata": {},
   "outputs": [],
   "source": [
    "import pandas as pd\n",
    "import numpy as np\n",
    "import math\n",
    "import networkx as nx\n",
    "import random\n",
    "import matplotlib.pyplot as plt"
   ]
  },
  {
   "cell_type": "code",
   "execution_count": 12,
   "metadata": {},
   "outputs": [
    {
     "data": {
      "text/plain": [
       "['Root', 'A', 'B', 'C', 'D', 'E']"
      ]
     },
     "execution_count": 12,
     "metadata": {},
     "output_type": "execute_result"
    }
   ],
   "source": [
    "def gen_station_names(amount):\n",
    "    \"\"\"\n",
    "    Creates names for stations given an amount of stations.\n",
    "    \"\"\"\n",
    "    name_list = ['Root']\n",
    "    for name in range(amount):\n",
    "        name_list.append(chr(65 + name))\n",
    "    return name_list\n",
    "\n",
    "names = gen_station_names(5)\n",
    "names"
   ]
  },
  {
   "cell_type": "code",
   "execution_count": 13,
   "metadata": {},
   "outputs": [
    {
     "name": "stdout",
     "output_type": "stream",
     "text": [
      "6 6\n"
     ]
    },
    {
     "data": {
      "text/plain": [
       "[[2, 2], [2, 1], [0, 1], [0, 0], [1, 0], [1, 1]]"
      ]
     },
     "execution_count": 13,
     "metadata": {},
     "output_type": "execute_result"
    }
   ],
   "source": [
    "def gen_locations(name_list):\n",
    "    \"\"\"\n",
    "    Given a list of station names, generates random locations.\n",
    "    \"\"\"\n",
    "    location_list = []\n",
    "    max_xy = math.ceil(len(name_list) / 2)\n",
    "\n",
    "    while len(location_list) < len(name_list):\n",
    "\n",
    "        new_location = [np.random.randint(0, max_xy), np.random.randint(0, max_xy)]\n",
    "        if new_location not in location_list:\n",
    "            location_list.append(new_location)\n",
    "    return location_list\n",
    "\n",
    "locations = gen_locations(names)\n",
    "print(len(names), len(locations))\n",
    "locations"
   ]
  },
  {
   "cell_type": "code",
   "execution_count": 14,
   "metadata": {},
   "outputs": [],
   "source": [
    "def gen_connections(name_list, location_list):\n",
    "    \"\"\"\n",
    "    Takes a list of names and corresponding locations and generates connections between them.\n",
    "    \"\"\"\n",
    "    connection_list = []\n",
    "    final_list = []\n",
    "    new_connection_list = []\n",
    "    \n",
    "    for station in range(len(name_list)):\n",
    "        # Finds for a station which other stations can be directly connected to it\n",
    "        possible_connections = [location for location in location_list if location_list[station][0] == location[0]\n",
    "                                 or location_list[station][1] == location[1]]\n",
    "        # Removes the station itself\n",
    "        possible_connections.remove(location_list[station])\n",
    "\n",
    "        # Remove too far stations\n",
    "        fpc = []\n",
    "        # Below on the y-axis\n",
    "        if len([location for location in location_list if location[0] == location_list[station][0] and location[1] < location_list[station][1]]) > 0:\n",
    "            fpc.append(max([location for location in location_list if location[0] == location_list[station][0] and location[1] < location_list[station][1]]))\n",
    "        # Above on the y-axis\n",
    "        if len([location for location in location_list if location[0] == location_list[station][0] and location[1] > location_list[station][1]]) > 0:\n",
    "            fpc.append(min([location for location in location_list if location[0] == location_list[station][0] and location[1] > location_list[station][1]]))\n",
    "        # Left on the x-axis\n",
    "        if len([location for location in location_list if location[1] == location_list[station][1] and location[0] < location_list[station][0]]) > 0:\n",
    "            fpc.append(max([location for location in location_list if location[1] == location_list[station][1] and location[0] < location_list[station][0]]))\n",
    "        # Right on the x-axis\n",
    "        if len([location for location in location_list if location[1] == location_list[station][1] and location[0] > location_list[station][0]]) > 0:\n",
    "            fpc.append(min([location for location in location_list if location[1] == location_list[station][1] and location[0] > location_list[station][0]]))\n",
    "        fpc\n",
    "            \n",
    "        # If no stations can be connected, create a station which is can subsequently be connected with another station\n",
    "        if len(fpc) == 0:\n",
    "            #print('Trown out {} because it could not be connected'.format(name_list[station]))\n",
    "            name_list[station] = '-1'\n",
    "            location_list[station] = [-1, -1]\n",
    "            connection_list.append([-1, -1])\n",
    "                \n",
    "        else:\n",
    "            # Pick a random amount of connections from the possible connections\n",
    "            connection_list.append(random.sample(fpc, random.randint(1, len(fpc))))\n",
    "\n",
    "    # Renames the locations to station names\n",
    "    mapping_dict = dict(zip(map(tuple, location_list), name_list))\n",
    "\n",
    "    #print('name_list: {}, location_list: {}, connection_list: {}'.format(name_list, location_list, connection_list))\n",
    "\n",
    "    # Adds connections for newly generated stations to the list\n",
    "    connection_list = connection_list + new_connection_list\n",
    "    name_list = [x for x in name_list if x != '-1']\n",
    "    location_list = [x for x in location_list if x != [-1, -1]]\n",
    "    connection_list = [x for x in connection_list if x != [-1, -1]]\n",
    "    # Change location\n",
    "    for connection in connection_list:\n",
    "        final_list.append([mapping_dict[tuple(item)] for item in connection])\n",
    "    \n",
    "    # Ensures bilateral connections between stations\n",
    "    for station in range(len(name_list)):\n",
    "        for connection in final_list[station]:\n",
    "            # Adds for each station itself to the connection list of connected stations\n",
    "            index = name_list.index(connection)\n",
    "            temp_var = set(final_list[index])\n",
    "            temp_var.add(name_list[station])\n",
    "            final_list[index] = list(temp_var)\n",
    "    \n",
    "    return name_list, location_list, final_list\n",
    "        \n"
   ]
  },
  {
   "cell_type": "code",
   "execution_count": 24,
   "metadata": {},
   "outputs": [],
   "source": [
    "def gen_paths(df_stations, path_number, max_path_length):\n",
    "    \"\"\"\n",
    "    Takes a list of stations and connections between the stations to create the desired amount of paths with the desired average length. \n",
    "    Note: Due to how the algorithm is set up this function can error when the root is non-exisiting in a test case, however this\n",
    "        can never happen in evaluate_algorithm because they are trown out, therefore the root is always connected to something.\n",
    "    \"\"\"\n",
    "    total_path_list = []\n",
    "\n",
    "    # Generate n paths\n",
    "    for n in range(path_number):\n",
    "\n",
    "        local_path = ['Root']                       # Initialize the path\n",
    "        length = random.randint(1, max_path_length) # Create a maximum random length for the path\n",
    "\n",
    "        for step in range(length):\n",
    "            # Finds for the current step the possible next steps\n",
    "            choices = list(df_stations.iloc[df_stations.index[df_stations['Station_names'] == local_path[-1]]]['Connected_to'])[0]\n",
    "\n",
    "            # Removes all stations which are already in the path\n",
    "            choices = [station for station in choices if station not in local_path]\n",
    "\n",
    "            # Stop if you can only go back\n",
    "            if len(choices) == 0:\n",
    "                break\n",
    "\n",
    "            local_path.append(random.choice(choices))\n",
    "\n",
    "        total_path_list.append(local_path)\n",
    "    return total_path_list\n",
    "            "
   ]
  },
  {
   "cell_type": "code",
   "execution_count": 16,
   "metadata": {},
   "outputs": [],
   "source": [
    "def plot_graph(df_stations):\n",
    "    G = nx.Graph()\n",
    "\n",
    "    # Add nodes to the graph\n",
    "    for i, row in df_stations.iterrows():\n",
    "        G.add_node(row['Station_names'], pos=row['Station_locations'])\n",
    "\n",
    "    # Add edges to the graph\n",
    "    for i, row in df_stations.iterrows():\n",
    "        for dest in row['Connected_to']:\n",
    "            G.add_edge(row['Station_names'], dest)\n",
    "\n",
    "    # Get positions of nodes\n",
    "    pos = nx.get_node_attributes(G, 'pos')\n",
    "\n",
    "    # Plot the graph\n",
    "    plt.figure(figsize=(10, 6))\n",
    "    nx.draw(G, pos, with_labels=True, node_size=1000, node_color='lightblue', font_size=10, font_weight='bold')\n",
    "    plt.title('Subway')\n",
    "    return plt"
   ]
  },
  {
   "cell_type": "code",
   "execution_count": 17,
   "metadata": {},
   "outputs": [],
   "source": [
    "amount_stations = 10\n",
    "test_names = gen_station_names(amount_stations)\n",
    "test_locations = gen_locations(test_names)\n",
    "test_names, test_locations, test_connections = gen_connections(test_names, test_locations)\n",
    "\n",
    "data = {\n",
    "    'Station_names': test_names,\n",
    "    'Station_locations': test_locations,\n",
    "    'Connected_to': test_connections\n",
    "}\n",
    "\n",
    "df_stations = pd.DataFrame(data)\n"
   ]
  },
  {
   "cell_type": "code",
   "execution_count": 18,
   "metadata": {},
   "outputs": [
    {
     "data": {
      "image/png": "[encoded data removed]",
      "text/plain": [
       "<Figure size 1000x600 with 1 Axes>"
      ]
     },
     "metadata": {},
     "output_type": "display_data"
    }
   ],
   "source": [
    "plot = plot_graph(df_stations)\n",
    "plot.show()"
   ]
  },
  {
   "cell_type": "code",
   "execution_count": 19,
   "metadata": {},
   "outputs": [],
   "source": [
    "def evaluate_algorithm(algorithm, amount_stations, test_size, path_number, max_path_length):\n",
    "    \"\"\"\n",
    "    Tests a given algorithm with an amount of stations\n",
    "    \"\"\"\n",
    "\n",
    "    trown_tests = 0\n",
    "    for n in range(0, test_size):\n",
    "        amount_stations = 10\n",
    "        test_names = gen_station_names(amount_stations)\n",
    "        test_locations = gen_locations(test_names)\n",
    "        test_names, test_locations, test_connections = gen_connections(test_names, test_locations)\n",
    "\n",
    "        # Trows out all the tests where the Root is disconnected\n",
    "        if 'Root' not in test_names:\n",
    "            trown_tests += 1\n",
    "\n",
    "        else:\n",
    "            data = {\n",
    "                'Station_names': test_names,\n",
    "                'Station_locations': test_locations,\n",
    "                'Connected_to': test_connections\n",
    "            }\n",
    "\n",
    "            df_stations = pd.DataFrame(data)\n",
    "            \n",
    "            # Generate paths\n",
    "            paths = gen_paths(df_stations, path_number, max_path_length)\n",
    "            \n",
    "            # TODO implement the algorithm test\n",
    "    print(trown_tests)"
   ]
  },
  {
   "cell_type": "code",
   "execution_count": 25,
   "metadata": {},
   "outputs": [
    {
     "name": "stdout",
     "output_type": "stream",
     "text": [
      "20\n"
     ]
    }
   ],
   "source": [
    "# For 1 million test we trow out 17858 on 10 stations\n",
    "evaluate_algorithm('placeholder', 10, 1000, 3, 10)\n"
   ]
  }
 ],
 "metadata": {
  "kernelspec": {
   "display_name": "Python 3",
   "language": "python",
   "name": "python3"
  },
  "language_info": {
   "codemirror_mode": {
    "name": "ipython",
    "version": 3
   },
   "file_extension": ".py",
   "mimetype": "text/x-python",
   "name": "python",
   "nbconvert_exporter": "python",
   "pygments_lexer": "ipython3",
   "version": "3.9.13"
  }
 },
 "nbformat": 4,
 "nbformat_minor": 2
}
