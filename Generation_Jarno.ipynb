{
 "cells": [
  {
   "cell_type": "code",
   "execution_count": 3,
   "metadata": {},
   "outputs": [],
   "source": [
    "import pandas as pd\n",
    "import numpy as np\n",
    "import math"
   ]
  },
  {
   "cell_type": "code",
   "execution_count": 4,
   "metadata": {},
   "outputs": [],
   "source": [
    "def generate_grid(size):\n",
    "    \"\"\"\n",
    "    Genertates a grid with lines and stations\n",
    "    \"\"\"\n",
    "    # Initialize grid and lists\n",
    "    starting_cor = []\n",
    "    df_grid = pd.DataFrame(np.zeros((size, size)))\n",
    "    df_grid = df_grid.astype('object')\n",
    "\n",
    "\n",
    "    return df_grid, starting_cor"
   ]
  },
  {
   "cell_type": "code",
   "execution_count": null,
   "metadata": {},
   "outputs": [],
   "source": [
    "def add_station(df_grid, x_cor, y_cor, line_number):\n",
    "    \"\"\"\n",
    "    Adds any station to the grid\n",
    "    \"\"\"\n",
    "\n",
    "    if df_grid.loc[x_cor, y_cor] == 0.0:\n",
    "        df_grid.loc[x_cor, y_cor] = [line_number]\n",
    "    else:\n",
    "        df_grid.loc[x_cor, y_cor].append(line_number)\n",
    "    return df_grid"
   ]
  },
  {
   "cell_type": "code",
   "execution_count": 5,
   "metadata": {},
   "outputs": [],
   "source": [
    "\n",
    "\n",
    "def new_station(line, df_grid, line_list):\n",
    "    \"\"\"\n",
    "    Given previous points in a line, generates a new location for a new stating\n",
    "    \"\"\" \n",
    "    # TODO take an ending position as well and let it generate stations on the way, make a stop if there is already a station\n",
    "    current_length = 0\n",
    "    max_distance = 2\n",
    "    distance = np.random.randint(1, max_distance + 1)\n",
    "    \n",
    "    while current_length < distance:\n",
    "        # If we only have the starting location we want our first move to be towards the middle\n",
    "        if len(line_list) == 1:\n",
    "            new_x = line_list[0][0] + 1 if line_list[0][0] - 15 < 0 else line_list[0][0]- 1\n",
    "            new_y = line_list[0][1] + 1 if line_list[0][1] - 15 < 0 else line_list[0][1]- 1\n",
    "        \n",
    "        else:\n",
    "            \n",
    "        # Find a next station location\n",
    "        # Check if it current == distance\n",
    "        # If yes add it to grid\n",
    "        # If not check if it is empty\n",
    "        # If not continue\n",
    "        # If yes stop and put the value into the grid and update line\n",
    "\n",
    "        current_length += 1\n",
    "    return df_grid, line_list\n",
    "\n",
    "\n"
   ]
  },
  {
   "cell_type": "code",
   "execution_count": 7,
   "metadata": {},
   "outputs": [],
   "source": [
    "def starting_station(starting_cor, size):\n",
    "    \"\"\"\n",
    "    Generates a starting station dependending on the previous starting stations\n",
    "    \"\"\"\n",
    "    # TODO fix that it only starts in a corner\n",
    "    min_distance = round(size/10)\n",
    "    count = 0\n",
    "    check_len = False\n",
    "\n",
    "    # Finds new stations which are not too close to previously generated stations\n",
    "    while check_len == False:\n",
    "\n",
    "        # Raises an error if there is no room to place a new station\n",
    "        if count == 1000:\n",
    "            raise Exception(\"No new stations can be found with this distance and set of stations\")\n",
    "        \n",
    "        # Determines the interval in which a station can be generated\n",
    "        decider_varx = np.random.randint(0, 10)\n",
    "        decider_vary = np.random.randint(0, 10)\n",
    "\n",
    "        # Generates a new station\n",
    "        x_new = np.random.randint(0, min_distance) if decider_varx <= 4 else np.random.randint(size - min_distance, size)\n",
    "        y_new = np.random.randint(0, min_distance) if decider_vary <= 4 else np.random.randint(size - min_distance, size)\n",
    "\n",
    "        # Checks if the station is not too close to any other station\n",
    "        too_close = False\n",
    "        for cor in starting_cor:\n",
    "            if math.dist(cor, [x_new, y_new]) < min_distance:\n",
    "                too_close = True\n",
    "                break  # No need to continue checking if one is too close\n",
    "        \n",
    "        if not too_close:\n",
    "            check_len = True\n",
    "        \n",
    "        count += 1\n",
    "\n",
    "    starting_cor.append([x_new, y_new])\n",
    "    return x_new, y_new, starting_cor"
   ]
  },
  {
   "cell_type": "code",
   "execution_count": 8,
   "metadata": {},
   "outputs": [],
   "source": [
    "def generate_line(df_grid, stop_chance, starting_cor, line_number, size):\n",
    "    \"\"\"\n",
    "    Generates a line on the grid with length dependend on the stop chance and adds it to the grid.\n",
    "    \"\"\"\n",
    "    # TODO make sure it doesn't stop too quickly\n",
    "    x_start, y_start, starting_cor = starting_station(starting_cor, size)\n",
    "    line_list = [[x_start, y_start]]\n",
    "    is_stop = np.random.randint(0, stop_chance)\n",
    "\n",
    "    while is_stop != (stop_chance - 1):\n",
    "\n",
    "        x_new, y_new = new_station(line_number, df_grid, line_list)\n",
    "        df_grid = add_station(df_grid, x_new, y_new, line_number)\n",
    "\n",
    "        is_stop = np.random.randint(0, stop_chance)\n",
    "    \n",
    "\n",
    "    return df_grid, starting_cor"
   ]
  },
  {
   "cell_type": "code",
   "execution_count": 9,
   "metadata": {},
   "outputs": [],
   "source": [
    "def generate_all(size, line_amount):\n",
    "    \"\"\"\n",
    "    Creates a set of subway lines\n",
    "    \"\"\"\n",
    "    stop_chance = 10    # Chance that the line terminates, changes the average length of a line, chance is 1/stop_chance\n",
    "    #ct_chance = 0.6     # Chance the line goes trough the central station\n",
    "    size = 100          # Size of the grid\n",
    "    line_amount = 10    # Amount of lines which will be on the grid\n",
    "\n",
    "    starting_cor = []\n",
    "    df_grid = generate_grid(size)\n",
    "    \n",
    "    for line_number in range(line_amount):\n",
    "        df_grid, starting_cor = generate_line(df_grid, stop_chance, starting_cor, line_number)\n",
    "\n",
    "    return df_grid\n"
   ]
  }
 ],
 "metadata": {
  "kernelspec": {
   "display_name": "Python 3",
   "language": "python",
   "name": "python3"
  },
  "language_info": {
   "codemirror_mode": {
    "name": "ipython",
    "version": 3
   },
   "file_extension": ".py",
   "mimetype": "text/x-python",
   "name": "python",
   "nbconvert_exporter": "python",
   "pygments_lexer": "ipython3",
   "version": "3.9.13"
  }
 },
 "nbformat": 4,
 "nbformat_minor": 2
}
