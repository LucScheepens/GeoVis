{
 "cells": [
  {
   "cell_type": "code",
   "execution_count": 26,
   "metadata": {},
   "outputs": [],
   "source": [
    "import pandas as pd\n",
    "import networkx as nx\n",
    "import matplotlib.pyplot as plt"
   ]
  },
  {
   "cell_type": "code",
   "execution_count": 23,
   "metadata": {},
   "outputs": [],
   "source": [
    "connections = [['Root', 'A'], [ 'Root', 'B'], ['Root', 'D'], ['D', 'E'], ['D', 'G'], ['A', 'C'], ['C', 'F'], ['F', 'G'], ['F', 'H']]\n",
    "reversed_connections = [[conn[1], conn[0]] for conn in connections]\n",
    "\n",
    "Paths = [['Root', 'A', 'C'], ['Root', 'A', 'C', 'F', 'G'], ['Root', 'A', 'C', 'F', 'H'], [ 'Root', 'B'], ['Root', 'D', 'E'], ['Root', 'D', 'G', 'F']]\n",
    "\n",
    "Station_names = ['Root', 'A', 'B', 'C', 'D', 'E', 'F', 'G', 'H']\n",
    "Station_locations = [[1, 0], [0, 0], [2, 0], [0, 1], [1, 1], [2, 1], [0, 2], [1, 2], [0, 3]]\n",
    "Connected_to = [['A', 'B', 'D'], ['Root', 'C'], ['Root'], ['A', 'F'], ['Root', 'E', 'G'], ['D'], ['C', 'G', 'H'], ['D', 'F'], ['F']]\n",
    "\n",
    "data = {\n",
    "    'Station_names': Station_names,\n",
    "    'Station_locations': Station_locations,\n",
    "    'Connected_to': Connected_to\n",
    "}\n",
    "\n",
    "df_stations = pd.DataFrame(data)"
   ]
  },
  {
   "cell_type": "code",
   "execution_count": 24,
   "metadata": {},
   "outputs": [
    {
     "data": {
      "text/html": [
       "<div>\n",
       "<style scoped>\n",
       "    .dataframe tbody tr th:only-of-type {\n",
       "        vertical-align: middle;\n",
       "    }\n",
       "\n",
       "    .dataframe tbody tr th {\n",
       "        vertical-align: top;\n",
       "    }\n",
       "\n",
       "    .dataframe thead th {\n",
       "        text-align: right;\n",
       "    }\n",
       "</style>\n",
       "<table border=\"1\" class=\"dataframe\">\n",
       "  <thead>\n",
       "    <tr style=\"text-align: right;\">\n",
       "      <th></th>\n",
       "      <th>Station_names</th>\n",
       "      <th>Station_locations</th>\n",
       "      <th>Connected_to</th>\n",
       "    </tr>\n",
       "  </thead>\n",
       "  <tbody>\n",
       "    <tr>\n",
       "      <th>0</th>\n",
       "      <td>Root</td>\n",
       "      <td>[1, 0]</td>\n",
       "      <td>[A, B, D]</td>\n",
       "    </tr>\n",
       "    <tr>\n",
       "      <th>1</th>\n",
       "      <td>A</td>\n",
       "      <td>[0, 0]</td>\n",
       "      <td>[Root, C]</td>\n",
       "    </tr>\n",
       "    <tr>\n",
       "      <th>2</th>\n",
       "      <td>B</td>\n",
       "      <td>[2, 0]</td>\n",
       "      <td>[Root]</td>\n",
       "    </tr>\n",
       "    <tr>\n",
       "      <th>3</th>\n",
       "      <td>C</td>\n",
       "      <td>[0, 1]</td>\n",
       "      <td>[A, F]</td>\n",
       "    </tr>\n",
       "    <tr>\n",
       "      <th>4</th>\n",
       "      <td>D</td>\n",
       "      <td>[1, 1]</td>\n",
       "      <td>[Root, E, G]</td>\n",
       "    </tr>\n",
       "    <tr>\n",
       "      <th>5</th>\n",
       "      <td>E</td>\n",
       "      <td>[2, 1]</td>\n",
       "      <td>[D]</td>\n",
       "    </tr>\n",
       "    <tr>\n",
       "      <th>6</th>\n",
       "      <td>F</td>\n",
       "      <td>[0, 2]</td>\n",
       "      <td>[C, G, H]</td>\n",
       "    </tr>\n",
       "    <tr>\n",
       "      <th>7</th>\n",
       "      <td>G</td>\n",
       "      <td>[1, 2]</td>\n",
       "      <td>[D, F]</td>\n",
       "    </tr>\n",
       "    <tr>\n",
       "      <th>8</th>\n",
       "      <td>H</td>\n",
       "      <td>[0, 3]</td>\n",
       "      <td>[F]</td>\n",
       "    </tr>\n",
       "  </tbody>\n",
       "</table>\n",
       "</div>"
      ],
      "text/plain": [
       "  Station_names Station_locations  Connected_to\n",
       "0          Root            [1, 0]     [A, B, D]\n",
       "1             A            [0, 0]     [Root, C]\n",
       "2             B            [2, 0]        [Root]\n",
       "3             C            [0, 1]        [A, F]\n",
       "4             D            [1, 1]  [Root, E, G]\n",
       "5             E            [2, 1]           [D]\n",
       "6             F            [0, 2]     [C, G, H]\n",
       "7             G            [1, 2]        [D, F]\n",
       "8             H            [0, 3]           [F]"
      ]
     },
     "execution_count": 24,
     "metadata": {},
     "output_type": "execute_result"
    }
   ],
   "source": [
    "df_stations"
   ]
  },
  {
   "cell_type": "code",
   "execution_count": 29,
   "metadata": {},
   "outputs": [
    {
     "data": {
      "image/png": "[encoded data removed]",
      "text/plain": [
       "<Figure size 1000x600 with 1 Axes>"
      ]
     },
     "metadata": {},
     "output_type": "display_data"
    }
   ],
   "source": [
    "G = nx.Graph()\n",
    "\n",
    "# Add nodes to the graph\n",
    "for i, row in df_stations.iterrows():\n",
    "    G.add_node(row['Station_names'], pos=row['Station_locations'])\n",
    "\n",
    "# Add edges to the graph\n",
    "for i, row in df_stations.iterrows():\n",
    "    for dest in row['Connected_to']:\n",
    "        G.add_edge(row['Station_names'], dest)\n",
    "\n",
    "# Get positions of nodes\n",
    "pos = nx.get_node_attributes(G, 'pos')\n",
    "\n",
    "# Plot the graph\n",
    "plt.figure(figsize=(10, 6))\n",
    "nx.draw(G, pos, with_labels=True, node_size=1000, node_color='lightblue', font_size=10, font_weight='bold')\n",
    "plt.title('Subway')\n",
    "plt.show()"
   ]
  }
 ],
 "metadata": {
  "kernelspec": {
   "display_name": "Python 3",
   "language": "python",
   "name": "python3"
  },
  "language_info": {
   "codemirror_mode": {
    "name": "ipython",
    "version": 3
   },
   "file_extension": ".py",
   "mimetype": "text/x-python",
   "name": "python",
   "nbconvert_exporter": "python",
   "pygments_lexer": "ipython3",
   "version": "3.9.13"
  }
 },
 "nbformat": 4,
 "nbformat_minor": 2
}
