{
 "cells": [
  {
   "cell_type": "code",
   "execution_count": 20,
   "metadata": {},
   "outputs": [
    {
     "name": "stdout",
     "output_type": "stream",
     "text": [
      "Angle between point1 and point2: -1.5707963267948966\n"
     ]
    }
   ],
   "source": [
    "import math\n",
    "from dataclasses import dataclass\n",
    "\n",
    "@dataclass\n",
    "class Point:\n",
    "    x: float\n",
    "    y: float\n",
    "    \n",
    "    def angle_with(self, other_point):\n",
    "        \"\"\"\n",
    "        Calculate the angle between two points.\n",
    "\n",
    "        Parameters:\n",
    "            other_point (Point): The other point to calculate the angle with.\n",
    "\n",
    "        Returns:\n",
    "            float: The angle in radians.\n",
    "        \"\"\"\n",
    "        dx = other_point.x - self.x\n",
    "        dy = other_point.y - self.y\n",
    "        return math.atan2(dy, dx)\n",
    "\n",
    "# Example usage:\n",
    "point1 = Point(0, 0)\n",
    "point2 = Point(0, -1)\n",
    "angle = point1.angle_with(point2)\n",
    "print(\"Angle between point1 and point2:\", angle)"
   ]
  },
  {
   "cell_type": "code",
   "execution_count": 21,
   "metadata": {},
   "outputs": [],
   "source": [
    "from test_data_generator import generate_fake_metro, plot_metro_layout\n",
    "\n",
    "\n",
    "flow_paths, stations, df = generate_fake_metro(\n",
    "    station_count=10,\n",
    "    flow_path_count=10,\n",
    "    max_flow_path_length=5,\n",
    "    min_flow_path_frequency=1,\n",
    "    max_flow_path_frequency=10\n",
    ")"
   ]
  },
  {
   "cell_type": "code",
   "execution_count": 22,
   "metadata": {},
   "outputs": [
    {
     "data": {
      "text/plain": [
       "[(4, ['Root', 'B', 'J']),\n",
       " (7, ['Root', 'E', 'G', 'I']),\n",
       " (6, ['Root', 'E', 'G', 'I', 'A']),\n",
       " (2, ['Root', 'E', 'G']),\n",
       " (5, ['Root', 'E', 'G', 'I', 'A']),\n",
       " (5, ['Root', 'E', 'G', 'I']),\n",
       " (2, ['Root', 'B', 'J']),\n",
       " (3, ['Root', 'B', 'D', 'A', 'I', 'G']),\n",
       " (3, ['Root', 'B']),\n",
       " (6, ['Root', 'E', 'G', 'I', 'A', 'D'])]"
      ]
     },
     "execution_count": 22,
     "metadata": {},
     "output_type": "execute_result"
    }
   ],
   "source": [
    "flow_paths"
   ]
  },
  {
   "cell_type": "code",
   "execution_count": 23,
   "metadata": {},
   "outputs": [
    {
     "data": {
      "text/plain": [
       "<module 'matplotlib.pyplot' from 'c:\\\\Users\\\\20193216\\\\.conda\\\\envs\\\\Serpentine\\\\lib\\\\site-packages\\\\matplotlib\\\\pyplot.py'>"
      ]
     },
     "execution_count": 23,
     "metadata": {},
     "output_type": "execute_result"
    },
    {
     "data": {
      "image/png": "[encoded data removed]",
      "text/plain": [
       "<Figure size 1000x600 with 1 Axes>"
      ]
     },
     "metadata": {},
     "output_type": "display_data"
    }
   ],
   "source": [
    "from test_data_generator import plot_metro_layout\n",
    "\n",
    "plot_metro_layout(df)"
   ]
  },
  {
   "cell_type": "code",
   "execution_count": 24,
   "metadata": {},
   "outputs": [
    {
     "data": {
      "text/plain": [
       "{('Root', 'S0'): Point(x=10, y=10),\n",
       " ('Root', 'S1'): Point(x=11, y=11),\n",
       " ('Root', 'S2'): Point(x=11, y=9),\n",
       " ('Root', 'S3'): Point(x=9, y=11),\n",
       " ('Root', 'S4'): Point(x=9, y=9),\n",
       " ('Root', 'S5'): Point(x=12, y=12),\n",
       " ('Root', 'S6'): Point(x=12, y=8),\n",
       " ('Root', 'S7'): Point(x=8, y=12),\n",
       " ('Root', 'S8'): Point(x=8, y=8),\n",
       " ('Root', 'S9'): Point(x=13, y=13),\n",
       " ('Root', 'S10'): Point(x=13, y=7),\n",
       " ('Root', 'S11'): Point(x=7, y=13),\n",
       " ('A', 'S0'): Point(x=30, y=30),\n",
       " ('A', 'S1'): Point(x=31, y=31),\n",
       " ('A', 'S2'): Point(x=31, y=29),\n",
       " ('A', 'S3'): Point(x=29, y=31),\n",
       " ('A', 'S4'): Point(x=29, y=29),\n",
       " ('A', 'S5'): Point(x=32, y=32),\n",
       " ('A', 'S6'): Point(x=32, y=28),\n",
       " ('A', 'S7'): Point(x=28, y=32),\n",
       " ('A', 'S8'): Point(x=28, y=28),\n",
       " ('A', 'S9'): Point(x=33, y=33),\n",
       " ('A', 'S10'): Point(x=33, y=27),\n",
       " ('A', 'S11'): Point(x=27, y=33),\n",
       " ('B', 'S0'): Point(x=30, y=10),\n",
       " ('B', 'S1'): Point(x=31, y=11),\n",
       " ('B', 'S2'): Point(x=31, y=9),\n",
       " ('B', 'S3'): Point(x=29, y=11),\n",
       " ('B', 'S4'): Point(x=29, y=9),\n",
       " ('B', 'S5'): Point(x=32, y=12),\n",
       " ('B', 'S6'): Point(x=32, y=8),\n",
       " ('B', 'S7'): Point(x=28, y=12),\n",
       " ('B', 'S8'): Point(x=28, y=8),\n",
       " ('B', 'S9'): Point(x=33, y=13),\n",
       " ('B', 'S10'): Point(x=33, y=7),\n",
       " ('B', 'S11'): Point(x=27, y=13),\n",
       " ('C', 'S0'): Point(x=40, y=40),\n",
       " ('C', 'S1'): Point(x=41, y=41),\n",
       " ('C', 'S2'): Point(x=41, y=39),\n",
       " ('C', 'S3'): Point(x=39, y=41),\n",
       " ('C', 'S4'): Point(x=39, y=39),\n",
       " ('C', 'S5'): Point(x=42, y=42),\n",
       " ('C', 'S6'): Point(x=42, y=38),\n",
       " ('C', 'S7'): Point(x=38, y=42),\n",
       " ('C', 'S8'): Point(x=38, y=38),\n",
       " ('C', 'S9'): Point(x=43, y=43),\n",
       " ('C', 'S10'): Point(x=43, y=37),\n",
       " ('C', 'S11'): Point(x=37, y=43),\n",
       " ('D', 'S0'): Point(x=30, y=20),\n",
       " ('D', 'S1'): Point(x=31, y=21),\n",
       " ('D', 'S2'): Point(x=31, y=19),\n",
       " ('D', 'S3'): Point(x=29, y=21),\n",
       " ('D', 'S4'): Point(x=29, y=19),\n",
       " ('D', 'S5'): Point(x=32, y=22),\n",
       " ('D', 'S6'): Point(x=32, y=18),\n",
       " ('D', 'S7'): Point(x=28, y=22),\n",
       " ('D', 'S8'): Point(x=28, y=18),\n",
       " ('D', 'S9'): Point(x=33, y=23),\n",
       " ('D', 'S10'): Point(x=33, y=17),\n",
       " ('D', 'S11'): Point(x=27, y=23),\n",
       " ('E', 'S0'): Point(x=10, y=50),\n",
       " ('E', 'S1'): Point(x=11, y=51),\n",
       " ('E', 'S2'): Point(x=11, y=49),\n",
       " ('E', 'S3'): Point(x=9, y=51),\n",
       " ('E', 'S4'): Point(x=9, y=49),\n",
       " ('E', 'S5'): Point(x=12, y=52),\n",
       " ('E', 'S6'): Point(x=12, y=48),\n",
       " ('E', 'S7'): Point(x=8, y=52),\n",
       " ('E', 'S8'): Point(x=8, y=48),\n",
       " ('E', 'S9'): Point(x=13, y=53),\n",
       " ('E', 'S10'): Point(x=13, y=47),\n",
       " ('E', 'S11'): Point(x=7, y=53),\n",
       " ('F', 'S0'): Point(x=0, y=40),\n",
       " ('F', 'S1'): Point(x=1, y=41),\n",
       " ('F', 'S2'): Point(x=1, y=39),\n",
       " ('F', 'S3'): Point(x=-1, y=41),\n",
       " ('F', 'S4'): Point(x=-1, y=39),\n",
       " ('F', 'S5'): Point(x=2, y=42),\n",
       " ('F', 'S6'): Point(x=2, y=38),\n",
       " ('F', 'S7'): Point(x=-2, y=42),\n",
       " ('F', 'S8'): Point(x=-2, y=38),\n",
       " ('F', 'S9'): Point(x=3, y=43),\n",
       " ('F', 'S10'): Point(x=3, y=37),\n",
       " ('F', 'S11'): Point(x=-3, y=43),\n",
       " ('G', 'S0'): Point(x=20, y=50),\n",
       " ('G', 'S1'): Point(x=21, y=51),\n",
       " ('G', 'S2'): Point(x=21, y=49),\n",
       " ('G', 'S3'): Point(x=19, y=51),\n",
       " ('G', 'S4'): Point(x=19, y=49),\n",
       " ('G', 'S5'): Point(x=22, y=52),\n",
       " ('G', 'S6'): Point(x=22, y=48),\n",
       " ('G', 'S7'): Point(x=18, y=52),\n",
       " ('G', 'S8'): Point(x=18, y=48),\n",
       " ('G', 'S9'): Point(x=23, y=53),\n",
       " ('G', 'S10'): Point(x=23, y=47),\n",
       " ('G', 'S11'): Point(x=17, y=53),\n",
       " ('H', 'S0'): Point(x=40, y=20),\n",
       " ('H', 'S1'): Point(x=41, y=21),\n",
       " ('H', 'S2'): Point(x=41, y=19),\n",
       " ('H', 'S3'): Point(x=39, y=21),\n",
       " ('H', 'S4'): Point(x=39, y=19),\n",
       " ('H', 'S5'): Point(x=42, y=22),\n",
       " ('H', 'S6'): Point(x=42, y=18),\n",
       " ('H', 'S7'): Point(x=38, y=22),\n",
       " ('H', 'S8'): Point(x=38, y=18),\n",
       " ('H', 'S9'): Point(x=43, y=23),\n",
       " ('H', 'S10'): Point(x=43, y=17),\n",
       " ('H', 'S11'): Point(x=37, y=23),\n",
       " ('I', 'S0'): Point(x=30, y=50),\n",
       " ('I', 'S1'): Point(x=31, y=51),\n",
       " ('I', 'S2'): Point(x=31, y=49),\n",
       " ('I', 'S3'): Point(x=29, y=51),\n",
       " ('I', 'S4'): Point(x=29, y=49),\n",
       " ('I', 'S5'): Point(x=32, y=52),\n",
       " ('I', 'S6'): Point(x=32, y=48),\n",
       " ('I', 'S7'): Point(x=28, y=52),\n",
       " ('I', 'S8'): Point(x=28, y=48),\n",
       " ('I', 'S9'): Point(x=33, y=53),\n",
       " ('I', 'S10'): Point(x=33, y=47),\n",
       " ('I', 'S11'): Point(x=27, y=53),\n",
       " ('J', 'S0'): Point(x=30, y=0),\n",
       " ('J', 'S1'): Point(x=31, y=1),\n",
       " ('J', 'S2'): Point(x=31, y=-1),\n",
       " ('J', 'S3'): Point(x=29, y=1),\n",
       " ('J', 'S4'): Point(x=29, y=-1),\n",
       " ('J', 'S5'): Point(x=32, y=2),\n",
       " ('J', 'S6'): Point(x=32, y=-2),\n",
       " ('J', 'S7'): Point(x=28, y=2),\n",
       " ('J', 'S8'): Point(x=28, y=-2),\n",
       " ('J', 'S9'): Point(x=33, y=3),\n",
       " ('J', 'S10'): Point(x=33, y=-3),\n",
       " ('J', 'S11'): Point(x=27, y=3)}"
      ]
     },
     "execution_count": 24,
     "metadata": {},
     "output_type": "execute_result"
    }
   ],
   "source": [
    "from algo import DummyAlgorithm, DirectionalAlg\n",
    "from utils import LayoutAlgorithm, FlowPathsT, Point, LayoutOutput\n",
    "\n",
    "algorithms: [LayoutAlgorithm] = [\n",
    "    DummyAlgorithm(),\n",
    "    DirectionalAlg()\n",
    "]\n",
    "\n",
    "algorithms[1].find_optimal_layout(flow_paths=flow_paths, stations=stations)"
   ]
  },
  {
   "cell_type": "code",
   "execution_count": 25,
   "metadata": {},
   "outputs": [
    {
     "name": "stdout",
     "output_type": "stream",
     "text": [
      "{'S1': (0.951, 0.309), 'S2': (0.588, 0.809), 'S3': (0.0, 1.0), 'S4': (-0.588, 0.809), 'S5': (-0.951, 0.309)}\n"
     ]
    }
   ],
   "source": [
    "import math\n",
    "\n",
    "def generate_slot_offsets(N):\n",
    "    SLOT_OFFSETS = {}\n",
    "    for i in range(1, N+1):\n",
    "        theta = math.pi * (i - 0.5) / N\n",
    "        x = round(math.cos(theta), 3)\n",
    "        y = round(math.sin(theta), 3)\n",
    "        SLOT_OFFSETS[f'S{i}'] = (x, y)\n",
    "    return SLOT_OFFSETS\n",
    "\n",
    "# Example usage:\n",
    "N = 5  # Number of slots\n",
    "new_slot_offsets = generate_slot_offsets(N)\n",
    "print(new_slot_offsets)\n"
   ]
  },
  {
   "cell_type": "code",
   "execution_count": null,
   "metadata": {},
   "outputs": [],
   "source": []
  }
 ],
 "metadata": {
  "kernelspec": {
   "display_name": "main",
   "language": "python",
   "name": "python3"
  },
  "language_info": {
   "codemirror_mode": {
    "name": "ipython",
    "version": 3
   },
   "file_extension": ".py",
   "mimetype": "text/x-python",
   "name": "python",
   "nbconvert_exporter": "python",
   "pygments_lexer": "ipython3",
   "version": "3.10.6"
  }
 },
 "nbformat": 4,
 "nbformat_minor": 2
}
