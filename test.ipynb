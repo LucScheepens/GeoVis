{
 "cells": [
  {
   "cell_type": "code",
   "execution_count": 1,
   "metadata": {},
   "outputs": [
    {
     "name": "stdout",
     "output_type": "stream",
     "text": [
      "Angle between point1 and point2: -1.5707963267948966\n"
     ]
    }
   ],
   "source": [
    "import math\n",
    "from dataclasses import dataclass\n",
    "\n",
    "@dataclass\n",
    "class Point:\n",
    "    x: float\n",
    "    y: float\n",
    "    \n",
    "    def angle_with(self, other_point):\n",
    "        \"\"\"\n",
    "        Calculate the angle between two points.\n",
    "\n",
    "        Parameters:\n",
    "            other_point (Point): The other point to calculate the angle with.\n",
    "\n",
    "        Returns:\n",
    "            float: The angle in radians.\n",
    "        \"\"\"\n",
    "        dx = other_point.x - self.x\n",
    "        dy = other_point.y - self.y\n",
    "        return math.atan2(dy, dx)\n",
    "\n",
    "# Example usage:\n",
    "point1 = Point(0, 0)\n",
    "point2 = Point(0, -1)\n",
    "angle = point1.angle_with(point2)\n",
    "print(\"Angle between point1 and point2:\", angle)"
   ]
  },
  {
   "cell_type": "code",
   "execution_count": 2,
   "metadata": {},
   "outputs": [],
   "source": [
    "from test_data_generator import generate_fake_metro, plot_metro_layout\n",
    "\n",
    "\n",
    "flow_paths, stations, df = generate_fake_metro(\n",
    "    station_count=10,\n",
    "    flow_path_count=10,\n",
    "    max_flow_path_length=5,\n",
    "    min_flow_path_frequency=1,\n",
    "    max_flow_path_frequency=10\n",
    ")"
   ]
  },
  {
   "cell_type": "code",
   "execution_count": 3,
   "metadata": {},
   "outputs": [
    {
     "data": {
      "text/plain": [
       "[(7, ['Root', 'F', 'G', 'D', 'H', 'C']),\n",
       " (10, ['Root', 'E', 'J', 'G', 'F']),\n",
       " (2, ['Root', 'F', 'G']),\n",
       " (10, ['Root', 'F']),\n",
       " (7, ['Root', 'F', 'G', 'J', 'E']),\n",
       " (6, ['Root', 'F', 'G', 'J', 'E']),\n",
       " (10, ['Root', 'F']),\n",
       " (2, ['Root', 'F', 'G', 'J', 'E']),\n",
       " (1, ['Root', 'E', 'J', 'G']),\n",
       " (7, ['Root', 'E', 'J', 'G', 'F'])]"
      ]
     },
     "execution_count": 3,
     "metadata": {},
     "output_type": "execute_result"
    }
   ],
   "source": [
    "flow_paths"
   ]
  },
  {
   "cell_type": "code",
   "execution_count": 4,
   "metadata": {},
   "outputs": [
    {
     "data": {
      "text/plain": [
       "<module 'matplotlib.pyplot' from 'c:\\\\Users\\\\20193216\\\\.conda\\\\envs\\\\Serpentine\\\\lib\\\\site-packages\\\\matplotlib\\\\pyplot.py'>"
      ]
     },
     "execution_count": 4,
     "metadata": {},
     "output_type": "execute_result"
    },
    {
     "data": {
      "image/png": "[encoded data removed]",
      "text/plain": [
       "<Figure size 1000x600 with 1 Axes>"
      ]
     },
     "metadata": {},
     "output_type": "display_data"
    }
   ],
   "source": [
    "from test_data_generator import plot_metro_layout\n",
    "\n",
    "plot_metro_layout(df)"
   ]
  },
  {
   "cell_type": "code",
   "execution_count": 5,
   "metadata": {},
   "outputs": [
    {
     "data": {
      "text/plain": [
       "{('Root', 'S1'): Point(x=30.866, y=50.5),\n",
       " ('Root', 'S2'): Point(x=30.0, y=51.0),\n",
       " ('Root', 'S3'): Point(x=29.134, y=50.5),\n",
       " ('A', 'S1'): Point(x=0.866, y=20.5),\n",
       " ('A', 'S2'): Point(x=0.0, y=21.0),\n",
       " ('A', 'S3'): Point(x=-0.866, y=20.5),\n",
       " ('B', 'S1'): Point(x=30.866, y=0.5),\n",
       " ('B', 'S2'): Point(x=30.0, y=1.0),\n",
       " ('B', 'S3'): Point(x=29.134, y=0.5),\n",
       " ('C', 'S1'): Point(x=20.866, y=30.5),\n",
       " ('C', 'S2'): Point(x=20.0, y=31.0),\n",
       " ('C', 'S3'): Point(x=19.134, y=30.5),\n",
       " ('D', 'S1'): Point(x=10.866, y=0.5),\n",
       " ('D', 'S2'): Point(x=10.0, y=1.0),\n",
       " ('D', 'S3'): Point(x=9.134, y=0.5),\n",
       " ('E', 'S1'): Point(x=40.866, y=50.5),\n",
       " ('E', 'S2'): Point(x=40.0, y=51.0),\n",
       " ('E', 'S3'): Point(x=39.134, y=50.5),\n",
       " ('F', 'S1'): Point(x=10.866, y=50.5),\n",
       " ('F', 'S2'): Point(x=10.0, y=51.0),\n",
       " ('F', 'S3'): Point(x=9.134, y=50.5),\n",
       " ('G', 'S1'): Point(x=10.866, y=40.5),\n",
       " ('G', 'S2'): Point(x=10.0, y=41.0),\n",
       " ('G', 'S3'): Point(x=9.134, y=40.5),\n",
       " ('H', 'S1'): Point(x=20.866, y=0.5),\n",
       " ('H', 'S2'): Point(x=20.0, y=1.0),\n",
       " ('H', 'S3'): Point(x=19.134, y=0.5),\n",
       " ('I', 'S1'): Point(x=30.866, y=20.5),\n",
       " ('I', 'S2'): Point(x=30.0, y=21.0),\n",
       " ('I', 'S3'): Point(x=29.134, y=20.5),\n",
       " ('J', 'S1'): Point(x=40.866, y=40.5),\n",
       " ('J', 'S2'): Point(x=40.0, y=41.0),\n",
       " ('J', 'S3'): Point(x=39.134, y=40.5)}"
      ]
     },
     "execution_count": 5,
     "metadata": {},
     "output_type": "execute_result"
    }
   ],
   "source": [
    "from algo import DummyAlgorithm, DirectionalAlg\n",
    "from utils import LayoutAlgorithm, FlowPathsT, Point, LayoutOutput\n",
    "\n",
    "algorithms: [LayoutAlgorithm] = [\n",
    "    DummyAlgorithm(),\n",
    "    DirectionalAlg()\n",
    "]\n",
    "\n",
    "algorithms[1].find_optimal_layout(flow_paths=flow_paths, stations=stations)"
   ]
  },
  {
   "cell_type": "code",
   "execution_count": 6,
   "metadata": {},
   "outputs": [
    {
     "name": "stdout",
     "output_type": "stream",
     "text": [
      "{'S1': (0.951, 0.309), 'S2': (0.588, 0.809), 'S3': (0.0, 1.0), 'S4': (-0.588, 0.809), 'S5': (-0.951, 0.309)}\n"
     ]
    }
   ],
   "source": [
    "import math\n",
    "\n",
    "def generate_slot_offsets(N):\n",
    "    SLOT_OFFSETS = {}\n",
    "    for i in range(1, N+1):\n",
    "        theta = math.pi * (i - 0.5) / N\n",
    "        x = round(math.cos(theta), 3)\n",
    "        y = round(math.sin(theta), 3)\n",
    "        SLOT_OFFSETS[f'S{i}'] = (x, y)\n",
    "    return SLOT_OFFSETS\n",
    "\n",
    "# Example usage:\n",
    "N = 5  # Number of slots\n",
    "new_slot_offsets = generate_slot_offsets(N)\n",
    "print(new_slot_offsets)\n"
   ]
  },
  {
   "cell_type": "code",
   "execution_count": null,
   "metadata": {},
   "outputs": [],
   "source": []
  }
 ],
 "metadata": {
  "kernelspec": {
   "display_name": "main",
   "language": "python",
   "name": "python3"
  },
  "language_info": {
   "codemirror_mode": {
    "name": "ipython",
    "version": 3
   },
   "file_extension": ".py",
   "mimetype": "text/x-python",
   "name": "python",
   "nbconvert_exporter": "python",
   "pygments_lexer": "ipython3",
   "version": "3.10.6"
  }
 },
 "nbformat": 4,
 "nbformat_minor": 2
}
