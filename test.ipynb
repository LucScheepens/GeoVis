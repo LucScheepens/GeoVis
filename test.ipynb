{
 "cells": [
  {
   "cell_type": "code",
   "execution_count": 7,
   "metadata": {},
   "outputs": [
    {
     "name": "stdout",
     "output_type": "stream",
     "text": [
      "Angle between point1 and point2: 1.5707963267948966\n"
     ]
    }
   ],
   "source": [
    "import math\n",
    "from dataclasses import dataclass\n",
    "\n",
    "@dataclass\n",
    "class Point:\n",
    "    x: float\n",
    "    y: float\n",
    "    \n",
    "    def angle_with(self, other_point):\n",
    "        \"\"\"\n",
    "        Calculate the angle between two points.\n",
    "\n",
    "        Parameters:\n",
    "            other_point (Point): The other point to calculate the angle with.\n",
    "\n",
    "        Returns:\n",
    "            float: The angle in radians.\n",
    "        \"\"\"\n",
    "        dx = other_point.x - self.x\n",
    "        dy = other_point.y - self.y\n",
    "        return math.atan2(dy, dx)\n",
    "\n",
    "# Example usage:\n",
    "point1 = Point(1, 2)\n",
    "point2 = Point(1, 6)\n",
    "angle = point1.angle_with(point2)\n",
    "print(\"Angle between point1 and point2:\", angle)"
   ]
  },
  {
   "cell_type": "code",
   "execution_count": 4,
   "metadata": {},
   "outputs": [],
   "source": [
    "from test_data_generator import generate_fake_metro, plot_metro_layout\n",
    "\n",
    "flow_paths, stations, df = generate_fake_metro(\n",
    "    station_count=10,\n",
    "    flow_path_count=5,\n",
    "    max_flow_path_length=3,\n",
    "    min_flow_path_frequency=1,\n",
    "    max_flow_path_frequency=1\n",
    ")"
   ]
  },
  {
   "cell_type": "code",
   "execution_count": 5,
   "metadata": {},
   "outputs": [
    {
     "data": {
      "text/plain": [
       "[(1, ['Root', 'E', 'A']),\n",
       " (1, ['Root', 'E', 'A', 'C']),\n",
       " (1, ['Root', 'E']),\n",
       " (1, ['Root', 'E']),\n",
       " (1, ['Root', 'E', 'A', 'C'])]"
      ]
     },
     "execution_count": 5,
     "metadata": {},
     "output_type": "execute_result"
    }
   ],
   "source": [
    "flow_paths"
   ]
  },
  {
   "cell_type": "code",
   "execution_count": null,
   "metadata": {},
   "outputs": [],
   "source": []
  }
 ],
 "metadata": {
  "kernelspec": {
   "display_name": "main",
   "language": "python",
   "name": "python3"
  },
  "language_info": {
   "codemirror_mode": {
    "name": "ipython",
    "version": 3
   },
   "file_extension": ".py",
   "mimetype": "text/x-python",
   "name": "python",
   "nbconvert_exporter": "python",
   "pygments_lexer": "ipython3",
   "version": "3.11.4"
  }
 },
 "nbformat": 4,
 "nbformat_minor": 2
}
