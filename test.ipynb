{
 "cells": [
  {
   "cell_type": "code",
   "execution_count": 1,
   "metadata": {},
   "outputs": [
    {
     "name": "stdout",
     "output_type": "stream",
     "text": [
      "Angle between point1 and point2: -1.5707963267948966\n"
     ]
    }
   ],
   "source": [
    "import math\n",
    "from dataclasses import dataclass\n",
    "\n",
    "@dataclass\n",
    "class Point:\n",
    "    x: float\n",
    "    y: float\n",
    "    \n",
    "    def angle_with(self, other_point):\n",
    "        \"\"\"\n",
    "        Calculate the angle between two points.\n",
    "\n",
    "        Parameters:\n",
    "            other_point (Point): The other point to calculate the angle with.\n",
    "\n",
    "        Returns:\n",
    "            float: The angle in radians.\n",
    "        \"\"\"\n",
    "        dx = other_point.x - self.x\n",
    "        dy = other_point.y - self.y\n",
    "        return math.atan2(dy, dx)\n",
    "\n",
    "# Example usage:\n",
    "point1 = Point(0, 0)\n",
    "point2 = Point(0, -1)\n",
    "angle = point1.angle_with(point2)\n",
    "print(\"Angle between point1 and point2:\", angle)"
   ]
  },
  {
   "cell_type": "code",
   "execution_count": 34,
   "metadata": {},
   "outputs": [],
   "source": [
    "from test_data_generator import generate_fake_metro, plot_metro_layout\n",
    "\n",
    "\n",
    "flow_paths, stations, df = generate_fake_metro(\n",
    "    station_count=10,\n",
    "    flow_path_count=10,\n",
    "    max_flow_path_length=5,\n",
    "    min_flow_path_frequency=1,\n",
    "    max_flow_path_frequency=10\n",
    ")"
   ]
  },
  {
   "cell_type": "code",
   "execution_count": 35,
   "metadata": {},
   "outputs": [
    {
     "data": {
      "text/plain": [
       "[(7, ['Root', 'D', 'G']),\n",
       " (9, ['Root', 'D', 'G']),\n",
       " (4, ['Root', 'J']),\n",
       " (10, ['Root', 'D', 'G']),\n",
       " (6, ['Root', 'D']),\n",
       " (10, ['Root', 'D']),\n",
       " (8, ['Root', 'H']),\n",
       " (3, ['Root', 'D', 'G']),\n",
       " (4, ['Root', 'H']),\n",
       " (2, ['Root', 'J'])]"
      ]
     },
     "execution_count": 35,
     "metadata": {},
     "output_type": "execute_result"
    }
   ],
   "source": [
    "flow_paths"
   ]
  },
  {
   "cell_type": "code",
   "execution_count": 36,
   "metadata": {},
   "outputs": [
    {
     "data": {
      "text/plain": [
       "<module 'matplotlib.pyplot' from 'c:\\\\Users\\\\20193216\\\\.conda\\\\envs\\\\Serpentine\\\\lib\\\\site-packages\\\\matplotlib\\\\pyplot.py'>"
      ]
     },
     "execution_count": 36,
     "metadata": {},
     "output_type": "execute_result"
    },
    {
     "data": {
      "image/png": "[encoded data removed]",
      "text/plain": [
       "<Figure size 1000x600 with 1 Axes>"
      ]
     },
     "metadata": {},
     "output_type": "display_data"
    }
   ],
   "source": [
    "from test_data_generator import plot_metro_layout\n",
    "\n",
    "plot_metro_layout(df)"
   ]
  },
  {
   "cell_type": "code",
   "execution_count": 57,
   "metadata": {},
   "outputs": [
    {
     "name": "stdout",
     "output_type": "stream",
     "text": [
      "Angle 3.141592653589793 for key RootJ is between 0.5*pi and pi\n",
      "Angle -1.1071487177940904 for key RootDG is between 0 and -0.5*pi\n",
      "Angle -1.5707963267948966 for key RootD is between 0 and -0.5*pi\n"
     ]
    },
    {
     "data": {
      "text/plain": [
       "[[3.141592653589793], [], [-1.1071487177940904, -1.5707963267948966], []]"
      ]
     },
     "execution_count": 57,
     "metadata": {},
     "output_type": "execute_result"
    }
   ],
   "source": [
    "import importlib\n",
    "import algo\n",
    "importlib.reload(algo)\n",
    "\n",
    "from algo import DummyAlgorithm, DirectionalAlg\n",
    "from utils import LayoutAlgorithm, FlowPathsT, Point, LayoutOutput\n",
    "\n",
    "algorithms: [LayoutAlgorithm] = [\n",
    "    DummyAlgorithm(),\n",
    "    DirectionalAlg()\n",
    "]\n",
    "\n",
    "algorithms[1].find_optimal_layout(flow_paths=flow_paths, stations=stations)"
   ]
  },
  {
   "cell_type": "code",
   "execution_count": 56,
   "metadata": {},
   "outputs": [
    {
     "data": {
      "text/plain": [
       "(('Root', 'S0'), Point(x=20, y=40))"
      ]
     },
     "execution_count": 56,
     "metadata": {},
     "output_type": "execute_result"
    }
   ],
   "source": [
    "data = {('Root', 'S0'): Point(x=20, y=40),\n",
    " ('Root', 'S1'): Point(x=21, y=41),\n",
    " ('Root', 'S2'): Point(x=21, y=39),\n",
    " ('Root', 'S3'): Point(x=19, y=41),\n",
    " ('A', 'S0'): Point(x=50, y=40),}\n",
    "\n",
    "max_y_pair_neg_x = max(data.items(), key=lambda item: item[1].y if item[1].x < 0 else float(\"-inf\"))\n",
    "# min_y_pair_neg_x = min(data.items(), key=lambda item: item[1][1] if item[1][0] < 0 else float(\"-inf\"))\n",
    "# max_y_pair_pos_x = max(data.items(), key=lambda item: item[1][1] if item[1][0] > 0 else float(\"-inf\"))\n",
    "# min_y_pair_pos_x = min(data.items(), key=lambda item: item[1][1] if item[1][0] > 0 else float(\"-inf\"))\n",
    "# value = data.pop(max_y_pair_pos_x[0])\n",
    "max_y_pair_neg_x"
   ]
  },
  {
   "cell_type": "code",
   "execution_count": 48,
   "metadata": {},
   "outputs": [
    {
     "data": {
      "text/plain": [
       "(1, 1)"
      ]
     },
     "execution_count": 48,
     "metadata": {},
     "output_type": "execute_result"
    }
   ],
   "source": [
    "value"
   ]
  },
  {
   "cell_type": "code",
   "execution_count": 49,
   "metadata": {},
   "outputs": [
    {
     "data": {
      "text/plain": [
       "{'S0': (0, 0), 'S2': (1, -1), 'S3': (-1, 1), 's11': (-1, 10)}"
      ]
     },
     "execution_count": 49,
     "metadata": {},
     "output_type": "execute_result"
    }
   ],
   "source": [
    "data"
   ]
  },
  {
   "cell_type": "code",
   "execution_count": null,
   "metadata": {},
   "outputs": [],
   "source": []
  }
 ],
 "metadata": {
  "kernelspec": {
   "display_name": "main",
   "language": "python",
   "name": "python3"
  },
  "language_info": {
   "codemirror_mode": {
    "name": "ipython",
    "version": 3
   },
   "file_extension": ".py",
   "mimetype": "text/x-python",
   "name": "python",
   "nbconvert_exporter": "python",
   "pygments_lexer": "ipython3",
   "version": "3.10.6"
  }
 },
 "nbformat": 4,
 "nbformat_minor": 2
}
