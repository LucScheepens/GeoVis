{
 "cells": [
  {
   "cell_type": "code",
   "execution_count": 2,
   "metadata": {},
   "outputs": [
    {
     "name": "stdout",
     "output_type": "stream",
     "text": [
      "Angle between point1 and point2: -1.5707963267948966\n"
     ]
    }
   ],
   "source": [
    "import math\n",
    "from dataclasses import dataclass\n",
    "\n",
    "@dataclass\n",
    "class Point:\n",
    "    x: float\n",
    "    y: float\n",
    "    \n",
    "    def angle_with(self, other_point):\n",
    "        \"\"\"\n",
    "        Calculate the angle between two points.\n",
    "\n",
    "        Parameters:\n",
    "            other_point (Point): The other point to calculate the angle with.\n",
    "\n",
    "        Returns:\n",
    "            float: The angle in radians.\n",
    "        \"\"\"\n",
    "        dx = other_point.x - self.x\n",
    "        dy = other_point.y - self.y\n",
    "        return math.atan2(dy, dx)\n",
    "\n",
    "# Example usage:\n",
    "point1 = Point(0, 0)\n",
    "point2 = Point(0, -1)\n",
    "angle = point1.angle_with(point2)\n",
    "print(\"Angle between point1 and point2:\", angle)"
   ]
  },
  {
   "cell_type": "code",
   "execution_count": 3,
   "metadata": {},
   "outputs": [],
   "source": [
    "from test_data_generator import generate_fake_metro, plot_metro_layout\n",
    "\n",
    "\n",
    "flow_paths, stations, df = generate_fake_metro(\n",
    "    station_count=10,\n",
    "    flow_path_count=10,\n",
    "    max_flow_path_length=5,\n",
    "    min_flow_path_frequency=1,\n",
    "    max_flow_path_frequency=10\n",
    ")"
   ]
  },
  {
   "cell_type": "code",
   "execution_count": 4,
   "metadata": {},
   "outputs": [
    {
     "data": {
      "text/plain": [
       "[(4, ['Root', 'A', 'H', 'F', 'E', 'D']),\n",
       " (4, ['Root', 'A']),\n",
       " (3, ['Root', 'C', 'I', 'E']),\n",
       " (9, ['Root', 'A']),\n",
       " (1, ['Root', 'C', 'I', 'E']),\n",
       " (4, ['Root', 'A', 'H']),\n",
       " (7, ['Root', 'A', 'H']),\n",
       " (9, ['Root', 'A']),\n",
       " (10, ['Root', 'A']),\n",
       " (3, ['Root', 'C', 'I'])]"
      ]
     },
     "execution_count": 4,
     "metadata": {},
     "output_type": "execute_result"
    }
   ],
   "source": [
    "flow_paths"
   ]
  },
  {
   "cell_type": "code",
   "execution_count": 5,
   "metadata": {},
   "outputs": [
    {
     "data": {
      "text/plain": [
       "<module 'matplotlib.pyplot' from 'c:\\\\Users\\\\lucsc\\\\anaconda3\\\\envs\\\\main\\\\Lib\\\\site-packages\\\\matplotlib\\\\pyplot.py'>"
      ]
     },
     "execution_count": 5,
     "metadata": {},
     "output_type": "execute_result"
    },
    {
     "data": {
      "image/png": "[encoded data removed]",
      "text/plain": [
       "<Figure size 1000x600 with 1 Axes>"
      ]
     },
     "metadata": {},
     "output_type": "display_data"
    }
   ],
   "source": [
    "from test_data_generator import plot_metro_layout\n",
    "\n",
    "plot_metro_layout(df)"
   ]
  },
  {
   "cell_type": "code",
   "execution_count": 52,
   "metadata": {},
   "outputs": [
    {
     "name": "stdout",
     "output_type": "stream",
     "text": [
      "Angle 3.141592653589793 for key RootAG is between 0.5*pi and pi\n",
      "Angle 3.141592653589793 for key RootA is between 0.5*pi and pi\n",
      "Angle -2.498091544796509 for key RootAGHB is between -0.5*pi and -pi\n",
      "Angle -2.601173153319209 for key RootAGH is between -0.5*pi and -pi\n",
      "Angle -2.896613990462929 for key RootAGHBI is between -0.5*pi and -pi\n"
     ]
    },
    {
     "data": {
      "text/plain": [
       "[[('Root', 'S3'), ('A', 'S3'), ('G', 'S3')],\n",
       " [('Root', 'S4'), ('A', 'S4')],\n",
       " [('Root', 'S0'), ('A', 'S0'), ('G', 'S0'), ('H', 'S0'), ('B', 'S0')],\n",
       " [('Root', 'S1'), ('A', 'S1'), ('G', 'S1'), ('H', 'S1')],\n",
       " [('Root', 'S2'),\n",
       "  ('A', 'S2'),\n",
       "  ('G', 'S2'),\n",
       "  ('H', 'S2'),\n",
       "  ('B', 'S2'),\n",
       "  ('I', 'S2')]]"
      ]
     },
     "execution_count": 52,
     "metadata": {},
     "output_type": "execute_result"
    }
   ],
   "source": [
    "import importlib\n",
    "import algo\n",
    "importlib.reload(algo)\n",
    "\n",
    "from algo import DummyAlgorithm, DirectionalAlg\n",
    "from utils import LayoutAlgorithm, FlowPathsT, Point, LayoutOutput\n",
    "\n",
    "algorithms: [LayoutAlgorithm] = [\n",
    "    DummyAlgorithm(),\n",
    "    DirectionalAlg()\n",
    "]\n",
    "\n",
    "algorithms[1].find_optimal_layout(flow_paths=flow_paths, stations=stations)"
   ]
  },
  {
   "cell_type": "code",
   "execution_count": 23,
   "metadata": {},
   "outputs": [
    {
     "data": {
      "text/plain": [
       "(2, 2)"
      ]
     },
     "execution_count": 23,
     "metadata": {},
     "output_type": "execute_result"
    }
   ],
   "source": [
    "data = {'S0': (0, 0), 'S1': (1, 1), 'S2': (1, -1), 'S3': (-1, 1), 'S4': (-1, -1), 'S5': (2, 2)}\n",
    "\n",
    "\n",
    "max_y_pair_pos_x = max(data.items(), key=lambda item: item[1][1] if item[1][0] > 0 else float(\"-inf\"))\n",
    "min_y_pair_pos_x = min(data.items(), key=lambda item: item[1][1] if item[1][0] > 0 else float(\"-inf\"))\n",
    "value = data.pop(max_y_pair_pos_x[0], None)\n",
    "value"
   ]
  },
  {
   "cell_type": "code",
   "execution_count": 24,
   "metadata": {},
   "outputs": [
    {
     "name": "stdout",
     "output_type": "stream",
     "text": [
      "Max value key: S5\n",
      "Min value key: S2\n",
      "Max value: (2, 2)\n",
      "Min value: (1, -1)\n"
     ]
    }
   ],
   "source": [
    "data = {'S0': (0, 0), 'S1': (1, 1), 'S2': (1, -1), 'S3': (-1, 1), 'S4': (-1, -1), 'S5': (2, 2)}\n",
    "\n",
    "max_y_key_pos_x = max((key for key, value in data.items() if value[0] > 0), key=lambda key: data[key][1], default=None)\n",
    "min_y_key_pos_x = min((key for key, value in data.items() if value[0] > 0), key=lambda key: data[key][1], default=None)\n",
    "\n",
    "value_max = data.pop(max_y_key_pos_x, None)\n",
    "value_min = data.pop(min_y_key_pos_x, None)\n",
    "\n",
    "print(\"Max value key:\", max_y_key_pos_x)\n",
    "print(\"Min value key:\", min_y_key_pos_x)\n",
    "\n",
    "print(\"Max value:\", value_max)\n",
    "print(\"Min value:\", value_min)"
   ]
  },
  {
   "cell_type": "code",
   "execution_count": null,
   "metadata": {},
   "outputs": [
    {
     "data": {
      "text/plain": [
       "{'S0': (0, 0), 'S2': (1, -1), 'S3': (-1, 1), 's11': (-1, 10)}"
      ]
     },
     "execution_count": 49,
     "metadata": {},
     "output_type": "execute_result"
    }
   ],
   "source": [
    "data"
   ]
  },
  {
   "cell_type": "code",
   "execution_count": 35,
   "metadata": {},
   "outputs": [
    {
     "name": "stdout",
     "output_type": "stream",
     "text": [
      "[{'Root': 'S5', 'C': 'S5', 'I': 'S5'}, {'Root': 'S1', 'A': 'S1'}, {'Root': 'S0', 'A': 'S0', 'H': 'S0', 'F': 'S0', 'E': 'S0', 'D': 'S0'}, {'Root': 'S3', 'C': 'S3', 'I': 'S3', 'E': 'S3'}, {'Root': 'S4', 'A': 'S4', 'H': 'S4'}]\n"
     ]
    }
   ],
   "source": [
    "original_dict = {\n",
    "    \"RootCI\": \"S5\",\n",
    "    \"RootA\": \"S1\",\n",
    "    \"RootAHFED\": \"S0\",\n",
    "    \"RootCIE\": \"S3\",\n",
    "    \"RootAH\": \"S4\"\n",
    "}\n",
    "import re\n",
    "\n",
    "list_of_dict = []\n",
    "\n",
    "for key, value in original_dict.items():\n",
    "    split_key =re.findall('[A-Z][^A-Z]*', key)\n",
    "    new_dict = {}\n",
    "\n",
    "    for i in split_key:\n",
    "        new_dict[i] = value\n",
    "    list_of_dict.append(new_dict)\n",
    "print(list_of_dict)\n"
   ]
  },
  {
   "cell_type": "code",
   "execution_count": 38,
   "metadata": {},
   "outputs": [
    {
     "name": "stdout",
     "output_type": "stream",
     "text": [
      "[[('Root', 's19'), ('A', 's19'), ('G', 's19')], [('Root', 's1'), ('A', 's1'), ('G', 's1'), ('H', 's1'), ('B', 's1')], [('Root', 's13'), ('A', 's13')], [('Root', 's18'), ('A', 's18')], [('Root', 's0'), ('A', 's0'), ('G', 's0')], [('Root', 's15'), ('A', 's15'), ('G', 's15'), ('H', 's15'), ('B', 's15'), ('I', 's15')], [('Root', 's20'), ('A', 's20'), ('G', 's20')], [('Root', 's12'), ('A', 's12'), ('G', 's12'), ('H', 's12')], [('Root', 's6'), ('A', 's6'), ('G', 's6')], [('Root', 's2'), ('A', 's2'), ('G', 's2'), ('H', 's2')]]\n"
     ]
    },
    {
     "data": {
      "text/plain": [
       "15"
      ]
     },
     "execution_count": 38,
     "metadata": {},
     "output_type": "execute_result"
    }
   ],
   "source": [
    "from test_data_generator import generate_fake_metro, plot_metro_layout\n",
    "import random\n",
    "import pandas as pd\n",
    "\n",
    "flow_paths, stations, df = generate_fake_metro(\n",
    "    station_count=10,\n",
    "    flow_path_count=10,\n",
    "    max_flow_path_length=5,\n",
    "    min_flow_path_frequency=1,\n",
    "    max_flow_path_frequency=10\n",
    ")\n",
    "\n",
    "test_stations = stations\n",
    "test_paths = flow_paths\n",
    "\n",
    "def generate_slots(test_paths):\n",
    "    \"\"\"\n",
    "    Generates slots given the paths\n",
    "    \"\"\"\n",
    "    max_length = int(len(test_paths) / 2) + 1\n",
    "    list_of_list = [[(i,i), (i, -i), (-i, i), (-i, -i)] for i in range (1, max_length)]\n",
    "\n",
    "    flattened_list = [(0, 0)]\n",
    "\n",
    "    for sublist in list_of_list:\n",
    "        for tuple_item in sublist:\n",
    "            flattened_list.append(tuple_item)\n",
    "    slot_names = ['s{}'.format(i) for i in range(0, len(flattened_list))]\n",
    "    return list(zip(slot_names, flattened_list))\n",
    "\n",
    "from algo import combination_to_coordinates, count_intersections\n",
    "from utils import Point, LayoutAlgorithm, FlowPathsT, LayoutOutput, SLOTS\n",
    "import numpy as np\n",
    "\n",
    "def calculate_intersections(flow_paths, stations):\n",
    "    \"\"\"\n",
    "    Takes a station, the flowpaths with frequencies and computes the optimal arrangement\n",
    "    \"\"\"\n",
    "\n",
    "    slots = generate_slots(test_paths)\n",
    "\n",
    "    data_paths = {\n",
    "    'Paths': [n[1] for n in flow_paths],\n",
    "    'Frequency': [n[0] for n in flow_paths],\n",
    "    'Slot offsets': random.sample(slots, 10)\n",
    "    }\n",
    "\n",
    "    df_paths = pd.DataFrame(data_paths)\n",
    "\n",
    "    # Transform offsets to a dictionary\n",
    "    OFFSETS = df_paths['Slot offsets']\n",
    "    offset_dict = dict()\n",
    "    for offset in OFFSETS:\n",
    "        offset_dict.update({offset[0]: offset[1]})\n",
    "\n",
    "    # Get slot names\n",
    "    slot_names = list(offset_dict.keys())\n",
    "\n",
    "    SLOT_OFFSETS = offset_dict\n",
    "    SLOTS = slot_names\n",
    "\n",
    "    # Get slot names\n",
    "    slot_coordinates = {}\n",
    "\n",
    "    #Transforms the slot to a location\n",
    "    for station_name, point in stations.items():\n",
    "        for slot in SLOTS:\n",
    "            offset_x, offset_y = SLOT_OFFSETS[slot]\n",
    "            slot_coordinates[(station_name, slot)] = Point(point.x + offset_x, point.y + offset_y)\n",
    "\n",
    "    combination_merged = []\n",
    "\n",
    "    # For each path in the dataframe, it takes the slot offset and takes the name.\n",
    "    # Then for each element of the path it creates a tuple with both.\n",
    "    for path in df_paths.iterrows():\n",
    "        path_list = []\n",
    "        slot = path[1]['Slot offsets'][0]\n",
    "        for station in path[1]['Paths']:\n",
    "            path_list.append((station, slot))\n",
    "        combination_merged.append(path_list)\n",
    "    print(combination_merged)\n",
    "    intersections = count_intersections(combination_to_coordinates(combination_merged, slot_coordinates))\n",
    "    layout = list(map(lambda x: (1, x), combination_to_coordinates(combination_merged, slot_coordinates)))\n",
    "    return intersections, combination_merged, layout\n",
    "\n",
    "intersections_test , combination_merged , layout= calculate_intersections(test_paths, test_stations)\n",
    "intersections_test\n",
    "\n"
   ]
  },
  {
   "cell_type": "code",
   "execution_count": 39,
   "metadata": {},
   "outputs": [
    {
     "name": "stdout",
     "output_type": "stream",
     "text": [
      "[[('Root', 'S5'), ('C', 'S5'), ('I', 'S5')], [('Root', 'S1'), ('A', 'S1')], [('Root', 'S0'), ('A', 'S0'), ('H', 'S0'), ('F', 'S0'), ('E', 'S0'), ('D', 'S0')], [('Root', 'S3'), ('C', 'S3'), ('I', 'S3'), ('E', 'S3')], [('Root', 'S4'), ('A', 'S4'), ('H', 'S4')]]\n"
     ]
    }
   ],
   "source": [
    "def convert_to_list_of_tuples(input_data):\n",
    "    output_data = []\n",
    "    for item in input_data:\n",
    "        new_item = [(k, v) for k, v in item.items()]\n",
    "        output_data.append(new_item)\n",
    "    return output_data\n",
    "\n",
    "# Example usage:\n",
    "input_data = [{'Root': 'S5', 'C': 'S5', 'I': 'S5'}, {'Root': 'S1', 'A': 'S1'}, {'Root': 'S0', 'A': 'S0', 'H': 'S0', 'F': 'S0', 'E': 'S0', 'D': 'S0'}, {'Root': 'S3', 'C': 'S3', 'I': 'S3', 'E': 'S3'}, {'Root': 'S4', 'A': 'S4', 'H': 'S4'}]\n",
    "\n",
    "output_data = convert_to_list_of_tuples(input_data)\n",
    "print(output_data)\n"
   ]
  },
  {
   "cell_type": "code",
   "execution_count": 48,
   "metadata": {},
   "outputs": [
    {
     "name": "stdout",
     "output_type": "stream",
     "text": [
      "('Root', 'S3')\n",
      "('A', 'S3')\n",
      "('G', 'S3')\n",
      "('Root', 'S4')\n",
      "('A', 'S4')\n",
      "('Root', 'S0')\n",
      "('A', 'S0')\n",
      "('G', 'S0')\n",
      "('H', 'S0')\n",
      "('B', 'S0')\n",
      "('Root', 'S1')\n",
      "('A', 'S1')\n",
      "('G', 'S1')\n",
      "('H', 'S1')\n",
      "('Root', 'S2')\n",
      "('A', 'S2')\n",
      "('G', 'S2')\n",
      "('H', 'S2')\n",
      "('B', 'S2')\n",
      "('I', 'S2')\n"
     ]
    }
   ],
   "source": [
    "data =  [[('Root', 'S3'), ('A', 'S3'), ('G', 'S3')],\n",
    "  [('Root', 'S4'), ('A', 'S4')],\n",
    "  [('Root', 'S0'), ('A', 'S0'), ('G', 'S0'), ('H', 'S0'), ('B', 'S0')],\n",
    "  [('Root', 'S1'), ('A', 'S1'), ('G', 'S1'), ('H', 'S1')],\n",
    "  [('Root', 'S2'),\n",
    "   ('A', 'S2'),\n",
    "   ('G', 'S2'),\n",
    "   ('H', 'S2'),\n",
    "   ('B', 'S2'),\n",
    "   ('I', 'S2')]]\n",
    "\n",
    "list_of_points, list_of_paths = []\n",
    "for path in data:\n",
    "  for slot in path:\n",
    "    list_of_points.append(slot_coordinates[slot])\n",
    "  list_of_paths.append(list_of_points)\n",
    "    "
   ]
  }
 ],
 "metadata": {
  "kernelspec": {
   "display_name": "main",
   "language": "python",
   "name": "python3"
  },
  "language_info": {
   "codemirror_mode": {
    "name": "ipython",
    "version": 3
   },
   "file_extension": ".py",
   "mimetype": "text/x-python",
   "name": "python",
   "nbconvert_exporter": "python",
   "pygments_lexer": "ipython3",
   "version": "3.11.4"
  }
 },
 "nbformat": 4,
 "nbformat_minor": 2
}
