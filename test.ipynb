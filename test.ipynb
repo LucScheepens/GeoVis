{
 "cells": [
  {
   "cell_type": "code",
   "execution_count": 2,
   "metadata": {},
   "outputs": [
    {
     "name": "stdout",
     "output_type": "stream",
     "text": [
      "Angle between point1 and point2: -1.5707963267948966\n"
     ]
    }
   ],
   "source": [
    "import math\n",
    "from dataclasses import dataclass\n",
    "\n",
    "@dataclass\n",
    "class Point:\n",
    "    x: float\n",
    "    y: float\n",
    "    \n",
    "    def angle_with(self, other_point):\n",
    "        \"\"\"\n",
    "        Calculate the angle between two points.\n",
    "\n",
    "        Parameters:\n",
    "            other_point (Point): The other point to calculate the angle with.\n",
    "\n",
    "        Returns:\n",
    "            float: The angle in radians.\n",
    "        \"\"\"\n",
    "        dx = other_point.x - self.x\n",
    "        dy = other_point.y - self.y\n",
    "        return math.atan2(dy, dx)\n",
    "\n",
    "# Example usage:\n",
    "point1 = Point(0, 0)\n",
    "point2 = Point(0, -1)\n",
    "angle = point1.angle_with(point2)\n",
    "print(\"Angle between point1 and point2:\", angle)"
   ]
  },
  {
   "cell_type": "code",
   "execution_count": 3,
   "metadata": {},
   "outputs": [],
   "source": [
    "from test_data_generator import generate_fake_metro, plot_metro_layout\n",
    "\n",
    "\n",
    "flow_paths, stations, df = generate_fake_metro(\n",
    "    station_count=10,\n",
    "    flow_path_count=10,\n",
    "    max_flow_path_length=5,\n",
    "    min_flow_path_frequency=1,\n",
    "    max_flow_path_frequency=10\n",
    ")"
   ]
  },
  {
   "cell_type": "code",
   "execution_count": 4,
   "metadata": {},
   "outputs": [
    {
     "data": {
      "text/plain": [
       "[(1, ['Root', 'J', 'C']),\n",
       " (10, ['Root', 'J', 'C']),\n",
       " (9, ['Root', 'J', 'C']),\n",
       " (9, ['Root', 'J', 'C']),\n",
       " (1, ['Root', 'J', 'C']),\n",
       " (3, ['Root', 'J']),\n",
       " (9, ['Root', 'J', 'C']),\n",
       " (2, ['Root', 'J']),\n",
       " (5, ['Root', 'J', 'C']),\n",
       " (6, ['Root', 'J'])]"
      ]
     },
     "execution_count": 4,
     "metadata": {},
     "output_type": "execute_result"
    }
   ],
   "source": [
    "flow_paths"
   ]
  },
  {
   "cell_type": "code",
   "execution_count": 5,
   "metadata": {},
   "outputs": [
    {
     "data": {
      "text/plain": [
       "<module 'matplotlib.pyplot' from 'c:\\\\Users\\\\lucsc\\\\anaconda3\\\\envs\\\\main\\\\Lib\\\\site-packages\\\\matplotlib\\\\pyplot.py'>"
      ]
     },
     "execution_count": 5,
     "metadata": {},
     "output_type": "execute_result"
    },
    {
     "data": {
      "image/png": "[encoded data removed]",
      "text/plain": [
       "<Figure size 1000x600 with 1 Axes>"
      ]
     },
     "metadata": {},
     "output_type": "display_data"
    }
   ],
   "source": [
    "from test_data_generator import plot_metro_layout\n",
    "\n",
    "plot_metro_layout(df)"
   ]
  },
  {
   "cell_type": "code",
   "execution_count": 6,
   "metadata": {},
   "outputs": [
    {
     "data": {
      "text/plain": [
       "{('Root', 'S0'): Point(x=41, y=20),\n",
       " ('Root', 'S1'): Point(x=41, y=21),\n",
       " ('A', 'S0'): Point(x=21, y=20),\n",
       " ('A', 'S1'): Point(x=21, y=21),\n",
       " ('B', 'S0'): Point(x=11, y=10),\n",
       " ('B', 'S1'): Point(x=11, y=11),\n",
       " ('C', 'S0'): Point(x=41, y=50),\n",
       " ('C', 'S1'): Point(x=41, y=51),\n",
       " ('D', 'S0'): Point(x=31, y=0),\n",
       " ('D', 'S1'): Point(x=31, y=1),\n",
       " ('E', 'S0'): Point(x=21, y=40),\n",
       " ('E', 'S1'): Point(x=21, y=41),\n",
       " ('F', 'S0'): Point(x=11, y=0),\n",
       " ('F', 'S1'): Point(x=11, y=1),\n",
       " ('G', 'S0'): Point(x=31, y=20),\n",
       " ('G', 'S1'): Point(x=31, y=21),\n",
       " ('H', 'S0'): Point(x=31, y=40),\n",
       " ('H', 'S1'): Point(x=31, y=41),\n",
       " ('I', 'S0'): Point(x=51, y=40),\n",
       " ('I', 'S1'): Point(x=51, y=41),\n",
       " ('J', 'S0'): Point(x=41, y=30),\n",
       " ('J', 'S1'): Point(x=41, y=31)}"
      ]
     },
     "execution_count": 6,
     "metadata": {},
     "output_type": "execute_result"
    }
   ],
   "source": [
    "from algo import DummyAlgorithm, DirectionalAlg\n",
    "from utils import LayoutAlgorithm, FlowPathsT, Point, LayoutOutput\n",
    "\n",
    "algorithms: [LayoutAlgorithm] = [\n",
    "    DummyAlgorithm(),\n",
    "    DirectionalAlg()\n",
    "]\n",
    "\n",
    "algorithms[1].find_optimal_layout(flow_paths=flow_paths, stations=stations)"
   ]
  },
  {
   "cell_type": "code",
   "execution_count": 7,
   "metadata": {},
   "outputs": [
    {
     "name": "stdout",
     "output_type": "stream",
     "text": [
      "{'S1': (0.951, 0.309), 'S2': (0.588, 0.809), 'S3': (0.0, 1.0), 'S4': (-0.588, 0.809), 'S5': (-0.951, 0.309)}\n"
     ]
    }
   ],
   "source": [
    "import math\n",
    "\n",
    "def generate_slot_offsets(N):\n",
    "    SLOT_OFFSETS = {}\n",
    "    for i in range(1, N+1):\n",
    "        theta = math.pi * (i - 0.5) / N\n",
    "        x = round(math.cos(theta), 3)\n",
    "        y = round(math.sin(theta), 3)\n",
    "        SLOT_OFFSETS[f'S{i}'] = (x, y)\n",
    "    return SLOT_OFFSETS\n",
    "\n",
    "# Example usage:\n",
    "N = 5  # Number of slots\n",
    "new_slot_offsets = generate_slot_offsets(N)\n",
    "print(new_slot_offsets)\n"
   ]
  },
  {
   "cell_type": "code",
   "execution_count": 8,
   "metadata": {},
   "outputs": [
    {
     "name": "stdout",
     "output_type": "stream",
     "text": [
      "{'S0': (0.5, 0.5), 'S1': (1.5, 1.5), 'S2': (2.5, 2.5), 'S3': (3.5, 3.5)}\n"
     ]
    }
   ],
   "source": [
    "import math\n",
    "\n",
    "def generate_slots(list_of_angles):\n",
    "    N = len(list_of_angles)\n",
    "    SLOT_OFFSETS = {}\n",
    "    for i in range(N):\n",
    "        x = i + 0.5\n",
    "        y = i + 0.5\n",
    "        SLOT_OFFSETS[f'S{i}'] = (x, y)\n",
    "    return SLOT_OFFSETS\n",
    "\n",
    "# Example usage:\n",
    "list_of_angles = [45, 135, 225, 315]\n",
    "slots = generate_slots(list_of_angles)\n",
    "print(slots)"
   ]
  },
  {
   "cell_type": "code",
   "execution_count": 9,
   "metadata": {},
   "outputs": [
    {
     "name": "stdout",
     "output_type": "stream",
     "text": [
      "{'S0': (0.5, 0.5), 'S1': (-1.5, 0.5), 'S2': (1.5, 1.5), 'S3': (-2.5, 1.5), 'S4': (2.5, 2.5), 'S5': (-3.5, 2.5)}\n"
     ]
    }
   ],
   "source": [
    "\n",
    "def generate_slots(n):\n",
    "    SLOT_OFFSETS = {}\n",
    "    x = 0.5\n",
    "    y = 0.5\n",
    "    for i in range(n):\n",
    "        if i % 2 == 0:\n",
    "            SLOT_OFFSETS[f'S{i}'] = (x, y)\n",
    "            x += 1\n",
    "        else:\n",
    "            SLOT_OFFSETS[f'S{i}'] = (-x, y)\n",
    "            y += 1\n",
    "    return SLOT_OFFSETS\n",
    "\n",
    "# Example usage:\n",
    "n = 6\n",
    "slots = generate_slots(n)\n",
    "print(slots)"
   ]
  },
  {
   "cell_type": "code",
   "execution_count": 10,
   "metadata": {},
   "outputs": [],
   "source": [
    "x,y = 0,0"
   ]
  },
  {
   "cell_type": "code",
   "execution_count": 11,
   "metadata": {},
   "outputs": [
    {
     "data": {
      "text/plain": [
       "0"
      ]
     },
     "execution_count": 11,
     "metadata": {},
     "output_type": "execute_result"
    }
   ],
   "source": [
    "x"
   ]
  },
  {
   "cell_type": "code",
   "execution_count": 12,
   "metadata": {},
   "outputs": [],
   "source": [
    "list_of_angles = ({'RootB': 0.0},\n",
    " {'RootBA': -0.19739555984988075,\n",
    "  'RootFIJDG': -0.982793723247329,\n",
    "  'RootF': -1.5707963267948966,\n",
    "  'RootFIJD': -1.2490457723982544})\n",
    "\n",
    "def generate_slots(list_of_angles):\n",
    "    N = len(list_of_angles[0])\n",
    "    SLOT_OFFSETS = {}\n",
    "    x,y = 0,0\n",
    "    if N <= 1:\n",
    "        SLOT_OFFSETS[f'S{0}'] = (x, y)\n",
    "        x-=1\n",
    "    else:\n",
    "        for i in range(1,N+1):\n",
    "            if i % 2 == 0:\n",
    "                SLOT_OFFSETS[f'S{i}'] = (x, y)\n",
    "                x += 1\n",
    "            else:\n",
    "                SLOT_OFFSETS[f'S{i}'] = (-x, y)\n",
    "                y += 1\n",
    "    N = len(list_of_angles[1])\n",
    "    print(x)\n",
    "    if N <= 1:\n",
    "        SLOT_OFFSETS[f'S{0}'] = (x, y)\n",
    "        x -= 1\n",
    "    else:\n",
    "        for i in range(1,N+1):\n",
    "            print(i)\n",
    "            if i % 2 == 0:\n",
    "                SLOT_OFFSETS[f'S{i}'] = (x, y)\n",
    "                x -= 1\n",
    "                # print(i)\n",
    "            else:\n",
    "                SLOT_OFFSETS[f'S{i}'] = (-x, y)\n",
    "                y -= 1\n",
    "\n",
    "    return SLOT_OFFSETS"
   ]
  },
  {
   "cell_type": "code",
   "execution_count": 13,
   "metadata": {},
   "outputs": [
    {
     "name": "stdout",
     "output_type": "stream",
     "text": [
      "-1\n",
      "1\n",
      "2\n",
      "3\n",
      "4\n"
     ]
    },
    {
     "data": {
      "text/plain": [
       "{'S0': (0, 0), 'S1': (1, 0), 'S2': (-1, -1), 'S3': (2, -1), 'S4': (-2, -2)}"
      ]
     },
     "execution_count": 13,
     "metadata": {},
     "output_type": "execute_result"
    }
   ],
   "source": [
    "generate_slots(list_of_angles)"
   ]
  },
  {
   "cell_type": "code",
   "execution_count": 14,
   "metadata": {},
   "outputs": [
    {
     "name": "stdout",
     "output_type": "stream",
     "text": [
      "0 0\n"
     ]
    }
   ],
   "source": [
    "for i in range(1,1):\n",
    "    if i == 0:\n",
    "        x,y = 0,0\n",
    "    if i % 2 == 0:\n",
    "        x += 1\n",
    "    else:\n",
    "        y += 1\n",
    "print(x,y)"
   ]
  },
  {
   "cell_type": "code",
   "execution_count": 15,
   "metadata": {},
   "outputs": [],
   "source": [
    "def generate_slots(list_of_angles):\n",
    "    SLOT_OFFSETS = {}\n",
    "    x, y = 0, 0\n",
    "    counter = 0\n",
    "\n",
    "    for name, angle in list_of_angles[0].items():\n",
    "        print(angle)\n",
    "        if angle>=0:\n",
    "            if counter % 2 ==0:\n",
    "                x +=1\n",
    "                SLOT_OFFSETS[f'S{counter}'] = (x, y)\n",
    "                counter+=1\n",
    "            else:\n",
    "                y +=1\n",
    "                print(y)\n",
    "                SLOT_OFFSETS[f'S{counter}'] = (x, y)\n",
    "                counter+=1\n",
    "    x,y = 0,0\n",
    "\n",
    "    for name, angle in list_of_angles[1].items():\n",
    "        if counter % 2 ==0:\n",
    "            x-=1\n",
    "\n",
    "            SLOT_OFFSETS[f'S{counter}'] = (x, y)\n",
    "            counter+=1\n",
    "        else:\n",
    "            y -=1\n",
    "            SLOT_OFFSETS[f'S{counter}'] = (x, y)\n",
    "            counter+=1\n",
    "\n",
    "    return SLOT_OFFSETS"
   ]
  },
  {
   "cell_type": "code",
   "execution_count": 16,
   "metadata": {},
   "outputs": [
    {
     "name": "stdout",
     "output_type": "stream",
     "text": [
      "0.0\n"
     ]
    },
    {
     "data": {
      "text/plain": [
       "{'S0': (1, 0), 'S1': (0, -1), 'S2': (-1, -1), 'S3': (-1, -2), 'S4': (-2, -2)}"
      ]
     },
     "execution_count": 16,
     "metadata": {},
     "output_type": "execute_result"
    }
   ],
   "source": [
    "generate_slots(list_of_angles)"
   ]
  },
  {
   "cell_type": "code",
   "execution_count": 17,
   "metadata": {},
   "outputs": [],
   "source": [
    "def generate_slots(list_of_angles):\n",
    "    SLOT_OFFSETS = {}\n",
    "    x, y = 0, 0\n",
    "    counter = 0\n",
    "\n",
    "    for name, angle in list_of_angles[0].items():\n",
    "        if angle >= 0:\n",
    "            x += 1 if counter % 2 == 0 else 0\n",
    "            y += 1 if counter % 2 != 0 else 0\n",
    "            SLOT_OFFSETS[f'S{counter}'] = (x, y)\n",
    "            counter += 1\n",
    "\n",
    "    x, y = 0, 0\n",
    "\n",
    "    for name, angle in list_of_angles[1].items():\n",
    "        x -= 1 if counter % 2 == 0 else 0\n",
    "        y -= 1 if counter % 2 != 0 else 0\n",
    "        SLOT_OFFSETS[f'S{counter}'] = (x, y)\n",
    "        counter += 1\n",
    "\n",
    "    return SLOT_OFFSETS\n"
   ]
  },
  {
   "cell_type": "code",
   "execution_count": 18,
   "metadata": {},
   "outputs": [
    {
     "data": {
      "text/plain": [
       "{'S0': (1, 0), 'S1': (0, -1), 'S2': (-1, -1), 'S3': (-1, -2), 'S4': (-2, -2)}"
      ]
     },
     "execution_count": 18,
     "metadata": {},
     "output_type": "execute_result"
    }
   ],
   "source": [
    "generate_slots(list_of_angles)"
   ]
  },
  {
   "cell_type": "code",
   "execution_count": 49,
   "metadata": {},
   "outputs": [],
   "source": [
    "def generate_slots(list_of_angles):\n",
    "    SLOT_OFFSETS = {}\n",
    "    x, y = 1, 1\n",
    "    counter = 1\n",
    "    for i in range(len(list_of_angles[0])):\n",
    "        if i % 2 == 0:\n",
    "            x = -1 *counter\n",
    "            y = 1* counter\n",
    "            counter += 1\n",
    "        else:\n",
    "            x = counter\n",
    "            y = counter\n",
    "        SLOT_OFFSETS[f'S{i}'] = (x, y)\n",
    "\n",
    "    counter = 1\n",
    "    for i in range(len(list_of_angles[1])):\n",
    "        if i % 2 == 0:\n",
    "            x = -1 *counter\n",
    "            y = (-1)* counter\n",
    "            counter += 1\n",
    "        else:\n",
    "            x = 1*counter\n",
    "            y = -1* counter\n",
    "        SLOT_OFFSETS[f'S{i}'] = (x, y)\n",
    "\n",
    "    return SLOT_OFFSETS\n"
   ]
  },
  {
   "cell_type": "code",
   "execution_count": 50,
   "metadata": {},
   "outputs": [
    {
     "data": {
      "text/plain": [
       "{'S0': (-1, -1), 'S1': (2, -2), 'S2': (-2, -2), 'S3': (3, -3)}"
      ]
     },
     "execution_count": 50,
     "metadata": {},
     "output_type": "execute_result"
    }
   ],
   "source": [
    "generate_slots(list_of_angles)"
   ]
  },
  {
   "cell_type": "code",
   "execution_count": null,
   "metadata": {},
   "outputs": [],
   "source": []
  }
 ],
 "metadata": {
  "kernelspec": {
   "display_name": "main",
   "language": "python",
   "name": "python3"
  },
  "language_info": {
   "codemirror_mode": {
    "name": "ipython",
    "version": 3
   },
   "file_extension": ".py",
   "mimetype": "text/x-python",
   "name": "python",
   "nbconvert_exporter": "python",
   "pygments_lexer": "ipython3",
   "version": "3.11.4"
  }
 },
 "nbformat": 4,
 "nbformat_minor": 2
}
