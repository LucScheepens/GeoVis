{
 "cells": [
  {
   "cell_type": "code",
   "execution_count": 2,
   "metadata": {},
   "outputs": [
    {
     "name": "stdout",
     "output_type": "stream",
     "text": [
      "Angle between point1 and point2: -1.5707963267948966\n"
     ]
    }
   ],
   "source": [
    "import math\n",
    "from dataclasses import dataclass\n",
    "\n",
    "@dataclass\n",
    "class Point:\n",
    "    x: float\n",
    "    y: float\n",
    "    \n",
    "    def angle_with(self, other_point):\n",
    "        \"\"\"\n",
    "        Calculate the angle between two points.\n",
    "\n",
    "        Parameters:\n",
    "            other_point (Point): The other point to calculate the angle with.\n",
    "\n",
    "        Returns:\n",
    "            float: The angle in radians.\n",
    "        \"\"\"\n",
    "        dx = other_point.x - self.x\n",
    "        dy = other_point.y - self.y\n",
    "        return math.atan2(dy, dx)\n",
    "\n",
    "# Example usage:\n",
    "point1 = Point(0, 0)\n",
    "point2 = Point(0, -1)\n",
    "angle = point1.angle_with(point2)\n",
    "print(\"Angle between point1 and point2:\", angle)"
   ]
  },
  {
   "cell_type": "code",
   "execution_count": 3,
   "metadata": {},
   "outputs": [],
   "source": [
    "from test_data_generator import generate_fake_metro, plot_metro_layout\n",
    "\n",
    "\n",
    "flow_paths, stations, df = generate_fake_metro(\n",
    "    station_count=10,\n",
    "    flow_path_count=10,\n",
    "    max_flow_path_length=5,\n",
    "    min_flow_path_frequency=1,\n",
    "    max_flow_path_frequency=10\n",
    ")"
   ]
  },
  {
   "cell_type": "code",
   "execution_count": 4,
   "metadata": {},
   "outputs": [
    {
     "data": {
      "text/plain": [
       "[(2, ['Root', 'H', 'E', 'A']),\n",
       " (3, ['Root', 'J', 'C']),\n",
       " (5, ['Root', 'J', 'C', 'G', 'I']),\n",
       " (3, ['Root', 'J', 'C', 'G', 'I']),\n",
       " (1, ['Root', 'J']),\n",
       " (8, ['Root', 'J']),\n",
       " (6, ['Root', 'H', 'E', 'I']),\n",
       " (6, ['Root', 'J', 'C']),\n",
       " (9, ['Root', 'J', 'C', 'G']),\n",
       " (5, ['Root', 'H'])]"
      ]
     },
     "execution_count": 4,
     "metadata": {},
     "output_type": "execute_result"
    }
   ],
   "source": [
    "flow_paths"
   ]
  },
  {
   "cell_type": "code",
   "execution_count": 5,
   "metadata": {},
   "outputs": [
    {
     "data": {
      "text/plain": [
       "<module 'matplotlib.pyplot' from 'c:\\\\Users\\\\lucsc\\\\anaconda3\\\\envs\\\\main\\\\Lib\\\\site-packages\\\\matplotlib\\\\pyplot.py'>"
      ]
     },
     "execution_count": 5,
     "metadata": {},
     "output_type": "execute_result"
    },
    {
     "data": {
      "image/png": "[encoded data removed]",
      "text/plain": [
       "<Figure size 1000x600 with 1 Axes>"
      ]
     },
     "metadata": {},
     "output_type": "display_data"
    }
   ],
   "source": [
    "from test_data_generator import plot_metro_layout\n",
    "\n",
    "plot_metro_layout(df)"
   ]
  },
  {
   "cell_type": "code",
   "execution_count": 15,
   "metadata": {},
   "outputs": [
    {
     "name": "stdout",
     "output_type": "stream",
     "text": [
      "[[('Root', 'S11'), ('B', 'S11')], [('Root', 'S7'), ('E', 'S7'), ('H', 'S7'), ('B', 'S7')], [('Root', 'S3'), ('B', 'S3'), ('H', 'S3'), ('J', 'S3'), ('I', 'S3')], [('Root', 'S4'), ('E', 'S4'), ('H', 'S4'), ('J', 'S4')], [('Root', 'S8'), ('E', 'S8'), ('H', 'S8')], [('Root', 'S13'), ('B', 'S13'), ('H', 'S13'), ('E', 'S13')], [('Root', 'S9'), ('E', 'S9')]]\n",
      "[(9, ['Root', 'B', 'H', 'J', 'I']), (4, ['Root', 'B']), (7, ['Root', 'B', 'H', 'E']), (4, ['Root', 'E', 'H']), (1, ['Root', 'E', 'H', 'B']), (4, ['Root', 'E', 'H', 'B']), (10, ['Root', 'E']), (8, ['Root', 'B']), (2, ['Root', 'E', 'H', 'J']), (8, ['Root', 'E', 'H', 'J'])]\n",
      "[[Point(x=37, y=43), Point(x=27, y=43)], [Point(x=38, y=42), Point(x=38, y=52), Point(x=28, y=52), Point(x=28, y=42)], [Point(x=39, y=41), Point(x=29, y=41), Point(x=29, y=51), Point(x=19, y=51), Point(x=9, y=51)], [Point(x=39, y=39), Point(x=39, y=49), Point(x=29, y=49), Point(x=19, y=49)], [Point(x=38, y=38), Point(x=38, y=48), Point(x=28, y=48)], [Point(x=44, y=44), Point(x=34, y=44), Point(x=34, y=54), Point(x=44, y=54)], [Point(x=43, y=43), Point(x=43, y=53)]]\n",
      "layout is equal to [(1, [Point(x=37, y=43), Point(x=27, y=43)]), (1, [Point(x=38, y=42), Point(x=38, y=52), Point(x=28, y=52), Point(x=28, y=42)]), (1, [Point(x=39, y=41), Point(x=29, y=41), Point(x=29, y=51), Point(x=19, y=51), Point(x=9, y=51)]), (1, [Point(x=39, y=39), Point(x=39, y=49), Point(x=29, y=49), Point(x=19, y=49)]), (1, [Point(x=38, y=38), Point(x=38, y=48), Point(x=28, y=48)]), (1, [Point(x=44, y=44), Point(x=34, y=44), Point(x=34, y=54), Point(x=44, y=54)]), (1, [Point(x=43, y=43), Point(x=43, y=53)])]\n"
     ]
    },
    {
     "data": {
      "text/plain": [
       "LayoutOutput(number_of_intersections=20, area_of_overlap=0, layout=[(1, [Point(x=37, y=43), Point(x=27, y=43)]), (1, [Point(x=38, y=42), Point(x=38, y=52), Point(x=28, y=52), Point(x=28, y=42)]), (1, [Point(x=39, y=41), Point(x=29, y=41), Point(x=29, y=51), Point(x=19, y=51), Point(x=9, y=51)]), (1, [Point(x=39, y=39), Point(x=39, y=49), Point(x=29, y=49), Point(x=19, y=49)]), (1, [Point(x=38, y=38), Point(x=38, y=48), Point(x=28, y=48)]), (1, [Point(x=44, y=44), Point(x=34, y=44), Point(x=34, y=54), Point(x=44, y=54)]), (1, [Point(x=43, y=43), Point(x=43, y=53)])])"
      ]
     },
     "execution_count": 15,
     "metadata": {},
     "output_type": "execute_result"
    }
   ],
   "source": [
    "import importlib\n",
    "import algo\n",
    "importlib.reload(algo)\n",
    "\n",
    "from algo import DummyAlgorithm, DirectionalAlg\n",
    "from utils import LayoutAlgorithm, FlowPathsT, Point, LayoutOutput\n",
    "\n",
    "algorithms: [LayoutAlgorithm] = [\n",
    "    DummyAlgorithm(),\n",
    "    DirectionalAlg()\n",
    "]\n",
    "\n",
    "algorithms[1].find_optimal_layout(flow_paths=flow_paths, stations=stations)"
   ]
  },
  {
   "cell_type": "code",
   "execution_count": 7,
   "metadata": {},
   "outputs": [
    {
     "data": {
      "text/plain": [
       "(2, 2)"
      ]
     },
     "execution_count": 7,
     "metadata": {},
     "output_type": "execute_result"
    }
   ],
   "source": [
    "data = {'S0': (0, 0), 'S1': (1, 1), 'S2': (1, -1), 'S3': (-1, 1), 'S4': (-1, -1), 'S5': (2, 2)}\n",
    "\n",
    "\n",
    "max_y_pair_pos_x = max(data.items(), key=lambda item: item[1][1] if item[1][0] > 0 else float(\"-inf\"))\n",
    "min_y_pair_pos_x = min(data.items(), key=lambda item: item[1][1] if item[1][0] > 0 else float(\"-inf\"))\n",
    "value = data.pop(max_y_pair_pos_x[0], None)\n",
    "value"
   ]
  },
  {
   "cell_type": "code",
   "execution_count": 8,
   "metadata": {},
   "outputs": [
    {
     "name": "stdout",
     "output_type": "stream",
     "text": [
      "Max value key: S5\n",
      "Min value key: S2\n",
      "Max value: (2, 2)\n",
      "Min value: (1, -1)\n"
     ]
    }
   ],
   "source": [
    "data = {'S0': (0, 0), 'S1': (1, 1), 'S2': (1, -1), 'S3': (-1, 1), 'S4': (-1, -1), 'S5': (2, 2)}\n",
    "\n",
    "max_y_key_pos_x = max((key for key, value in data.items() if value[0] > 0), key=lambda key: data[key][1], default=None)\n",
    "min_y_key_pos_x = min((key for key, value in data.items() if value[0] > 0), key=lambda key: data[key][1], default=None)\n",
    "\n",
    "value_max = data.pop(max_y_key_pos_x, None)\n",
    "value_min = data.pop(min_y_key_pos_x, None)\n",
    "\n",
    "print(\"Max value key:\", max_y_key_pos_x)\n",
    "print(\"Min value key:\", min_y_key_pos_x)\n",
    "\n",
    "print(\"Max value:\", value_max)\n",
    "print(\"Min value:\", value_min)"
   ]
  },
  {
   "cell_type": "code",
   "execution_count": null,
   "metadata": {},
   "outputs": [],
   "source": []
  },
  {
   "cell_type": "code",
   "execution_count": 9,
   "metadata": {},
   "outputs": [
    {
     "data": {
      "text/plain": [
       "{'S0': (0, 0), 'S1': (1, 1), 'S3': (-1, 1), 'S4': (-1, -1)}"
      ]
     },
     "execution_count": 9,
     "metadata": {},
     "output_type": "execute_result"
    }
   ],
   "source": [
    "data"
   ]
  },
  {
   "cell_type": "code",
   "execution_count": 10,
   "metadata": {},
   "outputs": [
    {
     "name": "stdout",
     "output_type": "stream",
     "text": [
      "[{'Root': 'S5', 'C': 'S5', 'I': 'S5'}, {'Root': 'S1', 'A': 'S1'}, {'Root': 'S0', 'A': 'S0', 'H': 'S0', 'F': 'S0', 'E': 'S0', 'D': 'S0'}, {'Root': 'S3', 'C': 'S3', 'I': 'S3', 'E': 'S3'}, {'Root': 'S4', 'A': 'S4', 'H': 'S4'}]\n"
     ]
    }
   ],
   "source": [
    "original_dict = {\n",
    "    \"RootCI\": \"S5\",\n",
    "    \"RootA\": \"S1\",\n",
    "    \"RootAHFED\": \"S0\",\n",
    "    \"RootCIE\": \"S3\",\n",
    "    \"RootAH\": \"S4\"\n",
    "}\n",
    "import re\n",
    "\n",
    "list_of_dict = []\n",
    "\n",
    "for key, value in original_dict.items():\n",
    "    split_key =re.findall('[A-Z][^A-Z]*', key)\n",
    "    new_dict = {}\n",
    "\n",
    "    for i in split_key:\n",
    "        new_dict[i] = value\n",
    "    list_of_dict.append(new_dict)\n",
    "print(list_of_dict)\n"
   ]
  },
  {
   "cell_type": "code",
   "execution_count": 11,
   "metadata": {},
   "outputs": [
    {
     "name": "stdout",
     "output_type": "stream",
     "text": [
      "[[('Root', 's11'), ('B', 's11'), ('H', 's11'), ('J', 's11'), ('I', 's11')], [('Root', 's15'), ('B', 's15')], [('Root', 's9'), ('B', 's9'), ('H', 's9'), ('E', 's9')], [('Root', 's12'), ('E', 's12'), ('H', 's12')], [('Root', 's0'), ('E', 's0'), ('H', 's0'), ('B', 's0')], [('Root', 's1'), ('E', 's1'), ('H', 's1'), ('B', 's1')], [('Root', 's13'), ('E', 's13')], [('Root', 's6'), ('B', 's6')], [('Root', 's17'), ('E', 's17'), ('H', 's17'), ('J', 's17')], [('Root', 's8'), ('E', 's8'), ('H', 's8'), ('J', 's8')]]\n"
     ]
    },
    {
     "data": {
      "text/plain": [
       "26"
      ]
     },
     "execution_count": 11,
     "metadata": {},
     "output_type": "execute_result"
    }
   ],
   "source": [
    "from test_data_generator import generate_fake_metro, plot_metro_layout\n",
    "import random\n",
    "import pandas as pd\n",
    "\n",
    "flow_paths, stations, df = generate_fake_metro(\n",
    "    station_count=10,\n",
    "    flow_path_count=10,\n",
    "    max_flow_path_length=5,\n",
    "    min_flow_path_frequency=1,\n",
    "    max_flow_path_frequency=10\n",
    ")\n",
    "\n",
    "test_stations = stations\n",
    "test_paths = flow_paths\n",
    "\n",
    "def generate_slots(test_paths):\n",
    "    \"\"\"\n",
    "    Generates slots given the paths\n",
    "    \"\"\"\n",
    "    max_length = int(len(test_paths) / 2) + 1\n",
    "    list_of_list = [[(i,i), (i, -i), (-i, i), (-i, -i)] for i in range (1, max_length)]\n",
    "\n",
    "    flattened_list = [(0, 0)]\n",
    "\n",
    "    for sublist in list_of_list:\n",
    "        for tuple_item in sublist:\n",
    "            flattened_list.append(tuple_item)\n",
    "    slot_names = ['s{}'.format(i) for i in range(0, len(flattened_list))]\n",
    "    return list(zip(slot_names, flattened_list))\n",
    "\n",
    "from algo import combination_to_coordinates, count_intersections\n",
    "from utils import Point, LayoutAlgorithm, FlowPathsT, LayoutOutput, SLOTS\n",
    "import numpy as np\n",
    "\n",
    "def calculate_intersections(flow_paths, stations):\n",
    "    \"\"\"\n",
    "    Takes a station, the flowpaths with frequencies and computes the optimal arrangement\n",
    "    \"\"\"\n",
    "\n",
    "    slots = generate_slots(test_paths)\n",
    "\n",
    "    data_paths = {\n",
    "    'Paths': [n[1] for n in flow_paths],\n",
    "    'Frequency': [n[0] for n in flow_paths],\n",
    "    'Slot offsets': random.sample(slots, 10)\n",
    "    }\n",
    "\n",
    "    df_paths = pd.DataFrame(data_paths)\n",
    "\n",
    "    # Transform offsets to a dictionary\n",
    "    OFFSETS = df_paths['Slot offsets']\n",
    "    offset_dict = dict()\n",
    "    for offset in OFFSETS:\n",
    "        offset_dict.update({offset[0]: offset[1]})\n",
    "\n",
    "    # Get slot names\n",
    "    slot_names = list(offset_dict.keys())\n",
    "\n",
    "    SLOT_OFFSETS = offset_dict\n",
    "    SLOTS = slot_names\n",
    "\n",
    "    # Get slot names\n",
    "    slot_coordinates = {}\n",
    "\n",
    "    #Transforms the slot to a location\n",
    "    for station_name, point in stations.items():\n",
    "        for slot in SLOTS:\n",
    "            offset_x, offset_y = SLOT_OFFSETS[slot]\n",
    "            slot_coordinates[(station_name, slot)] = Point(point.x + offset_x, point.y + offset_y)\n",
    "\n",
    "    combination_merged = []\n",
    "\n",
    "    # For each path in the dataframe, it takes the slot offset and takes the name.\n",
    "    # Then for each element of the path it creates a tuple with both.\n",
    "    for path in df_paths.iterrows():\n",
    "        path_list = []\n",
    "        slot = path[1]['Slot offsets'][0]\n",
    "        for station in path[1]['Paths']:\n",
    "            path_list.append((station, slot))\n",
    "        combination_merged.append(path_list)\n",
    "    print(combination_merged)\n",
    "    intersections = count_intersections(combination_to_coordinates(combination_merged, slot_coordinates))\n",
    "    layout = list(map(lambda x: (1, x), combination_to_coordinates(combination_merged, slot_coordinates)))\n",
    "    return intersections, combination_merged, layout\n",
    "\n",
    "intersections_test , combination_merged , layout= calculate_intersections(test_paths, test_stations)\n",
    "intersections_test\n",
    "\n"
   ]
  },
  {
   "cell_type": "code",
   "execution_count": 12,
   "metadata": {},
   "outputs": [
    {
     "name": "stdout",
     "output_type": "stream",
     "text": [
      "[[('Root', 'S5'), ('C', 'S5'), ('I', 'S5')], [('Root', 'S1'), ('A', 'S1')], [('Root', 'S0'), ('A', 'S0'), ('H', 'S0'), ('F', 'S0'), ('E', 'S0'), ('D', 'S0')], [('Root', 'S3'), ('C', 'S3'), ('I', 'S3'), ('E', 'S3')], [('Root', 'S4'), ('A', 'S4'), ('H', 'S4')]]\n"
     ]
    }
   ],
   "source": [
    "def convert_to_list_of_tuples(input_data):\n",
    "    output_data = []\n",
    "    for item in input_data:\n",
    "        new_item = [(k, v) for k, v in item.items()]\n",
    "        output_data.append(new_item)\n",
    "    return output_data\n",
    "\n",
    "# Example usage:\n",
    "input_data = [{'Root': 'S5', 'C': 'S5', 'I': 'S5'}, {'Root': 'S1', 'A': 'S1'}, {'Root': 'S0', 'A': 'S0', 'H': 'S0', 'F': 'S0', 'E': 'S0', 'D': 'S0'}, {'Root': 'S3', 'C': 'S3', 'I': 'S3', 'E': 'S3'}, {'Root': 'S4', 'A': 'S4', 'H': 'S4'}]\n",
    "\n",
    "output_data = convert_to_list_of_tuples(input_data)\n",
    "print(output_data)\n"
   ]
  },
  {
   "cell_type": "code",
   "execution_count": null,
   "metadata": {},
   "outputs": [],
   "source": []
  },
  {
   "cell_type": "code",
   "execution_count": 13,
   "metadata": {},
   "outputs": [],
   "source": [
    "def calc_angles(flow_paths, station_coords):\n",
    "    list_of_angles_pos = {}\n",
    "    list_of_angles_neg = {}\n",
    "    for path in flow_paths:\n",
    "        start_point = station_coords[path[1][0]]\n",
    "        end_point = station_coords[path[1][-1]]\n",
    "        angle_between_start_end = start_point.angle_with(end_point)\n",
    "        path_key = ''.join(path[1])\n",
    "\n",
    "        if angle_between_start_end >= 0: \n",
    "            list_of_angles_pos[path_key] = angle_between_start_end\n",
    "        else:\n",
    "            list_of_angles_neg[path_key] = angle_between_start_end\n",
    "            \n",
    "    return [list_of_angles_pos, list_of_angles_neg]\n",
    "\n",
    "def generate_slots(list_of_angles):\n",
    "    max_length = 0\n",
    "    SLOT_OFFSETS = {}\n",
    "\n",
    "    for angle in list_of_angles:\n",
    "        if len(angle) >= max_length:\n",
    "            max_length = len(angle)\n",
    "    list_of_list = [[(i,i), (i, -i), (-i, i), (-i, -i)] for i in range (1,max_length)]\n",
    "    flattened_list = [(0,0)]\n",
    "\n",
    "    for sublist in list_of_list:\n",
    "        for tuple_item in sublist:\n",
    "            flattened_list.append(tuple_item)\n",
    "\n",
    "    for i in range(2*max_length):\n",
    "        SLOT_OFFSETS[f'S{i}'] = flattened_list[i]\n",
    "\n",
    "    return SLOT_OFFSETS        \n",
    "\n",
    "station_coords = {}\n",
    "slot_coordinates = {}\n",
    "\n",
    "for name_station, point in stations.items():\n",
    "    station_coords[name_station] = Point(point.x, point.y)\n",
    "list_of_angles = calc_angles(flow_paths, station_coords)\n",
    "\n",
    "SLOT_OFFSETS = generate_slots(list_of_angles)\n",
    "\n",
    "for station_name, point in stations.items():\n",
    "    for slot, offset in SLOT_OFFSETS.items():\n",
    "        offset_x, offset_y = SLOT_OFFSETS[slot]\n",
    "        slot_coordinates[(station_name, slot)] = Point(point.x + offset_x, point.y + offset_y)"
   ]
  },
  {
   "cell_type": "code",
   "execution_count": 14,
   "metadata": {},
   "outputs": [
    {
     "data": {
      "text/plain": [
       "3"
      ]
     },
     "execution_count": 14,
     "metadata": {},
     "output_type": "execute_result"
    }
   ],
   "source": [
    "data =  [[('Root', 'S3'), ('A', 'S3'), ('G', 'S3')],\n",
    "  [('Root', 'S4'), ('A', 'S4')],\n",
    "  [('Root', 'S0'), ('A', 'S0'), ('G', 'S0'), ('H', 'S0'), ('B', 'S0')],\n",
    "  [('Root', 'S1'), ('A', 'S1'), ('G', 'S1'), ('H', 'S1')],\n",
    "  [('Root', 'S2'),\n",
    "   ('A', 'S2'),\n",
    "   ('G', 'S2'),\n",
    "   ('H', 'S2'),\n",
    "   ('B', 'S2'),\n",
    "   ('I', 'S2')]]\n",
    "\n",
    "\n",
    "list_of_paths = []\n",
    "for path in data:\n",
    "  list_of_points = []\n",
    "  for slot in path:\n",
    "    list_of_points.append(slot_coordinates[slot])\n",
    "  list_of_paths.append(list_of_points)\n",
    "\n",
    "len(list_of_paths[0])\n",
    "    "
   ]
  },
  {
   "cell_type": "code",
   "execution_count": null,
   "metadata": {},
   "outputs": [],
   "source": []
  }
 ],
 "metadata": {
  "kernelspec": {
   "display_name": "main",
   "language": "python",
   "name": "python3"
  },
  "language_info": {
   "codemirror_mode": {
    "name": "ipython",
    "version": 3
   },
   "file_extension": ".py",
   "mimetype": "text/x-python",
   "name": "python",
   "nbconvert_exporter": "python",
   "pygments_lexer": "ipython3",
   "version": "3.11.4"
  }
 },
 "nbformat": 4,
 "nbformat_minor": 2
}
